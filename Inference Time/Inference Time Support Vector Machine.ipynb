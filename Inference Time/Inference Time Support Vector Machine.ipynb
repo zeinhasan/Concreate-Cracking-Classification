{
 "cells": [
  {
   "cell_type": "markdown",
   "metadata": {},
   "source": [
    "# Library"
   ]
  },
  {
   "cell_type": "code",
   "execution_count": 1,
   "metadata": {},
   "outputs": [],
   "source": [
    "import cv2\n",
    "import os\n",
    "import numpy as np\n",
    "from sklearn.ensemble import RandomForestClassifier\n",
    "from skimage import exposure, feature\n",
    "from imutils import paths\n",
    "import matplotlib.pyplot as plt\n",
    "import argparse\n",
    "from sklearn.metrics import confusion_matrix, classification_report, f1_score, accuracy_score, log_loss\n",
    "import seaborn as sns\n",
    "import pandas as pd\n",
    "import random\n",
    "import shutil\n",
    "import glob\n",
    "import pickle\n",
    "import time"
   ]
  },
  {
   "cell_type": "markdown",
   "metadata": {},
   "source": [
    "# Local Binary Pattern Function"
   ]
  },
  {
   "cell_type": "code",
   "execution_count": 2,
   "metadata": {},
   "outputs": [],
   "source": [
    "# Local Binnary Patterns (LBP) class\n",
    "class LocalBinaryPatterns:\n",
    "    def __init__(self, numPoints, radius):\n",
    "        self.numPoints = numPoints\n",
    "        self.radius = radius\n",
    "\n",
    "    def describe(self, image, eps=1e-7):\n",
    "        lbp = feature.local_binary_pattern(image, self.numPoints,\n",
    "                                           self.radius, method=\"uniform\")\n",
    "        (hist, _) = np.histogram(lbp.ravel(),\n",
    "                                  bins=np.arange(0, self.numPoints + 3),\n",
    "                                  range=(0, self.numPoints + 2))\n",
    "\n",
    "        # Normalize the histogram\n",
    "        hist = hist.astype(\"float\")\n",
    "        hist /= (hist.sum() + eps)\n",
    "\n",
    "        return hist"
   ]
  },
  {
   "cell_type": "markdown",
   "metadata": {},
   "source": [
    "# Prediction Function"
   ]
  },
  {
   "cell_type": "code",
   "execution_count": 3,
   "metadata": {},
   "outputs": [],
   "source": [
    "def predict_image(model, image, desc):\n",
    "    start_time = time.time()\n",
    "    hist = desc.describe(image)\n",
    "    prediction = model.predict(hist.reshape(1, -1))\n",
    "    end_time = time.time()\n",
    "    return prediction, end_time - start_time"
   ]
  },
  {
   "cell_type": "markdown",
   "metadata": {},
   "source": [
    "# Running Time Count"
   ]
  },
  {
   "cell_type": "code",
   "execution_count": 4,
   "metadata": {},
   "outputs": [],
   "source": [
    "def main(models_folder, test_data_folders, num_points, radius, print_message=True):\n",
    "    average_times = []\n",
    "\n",
    "    desc = LocalBinaryPatterns(num_points, radius)\n",
    "\n",
    "    models = {}\n",
    "\n",
    "    total_images = 0  # Menghitung total gambar di semua folder\n",
    "    for test_data_folder in test_data_folders:\n",
    "        image_files = glob.glob(os.path.join(test_data_folder, '*.jpg'))\n",
    "        total_images += len(image_files)\n",
    "\n",
    "    for model_file in glob.glob(os.path.join(models_folder, '*.pkl')):\n",
    "        with open(model_file, 'rb') as f:\n",
    "            model_name = os.path.splitext(os.path.basename(model_file))[0]\n",
    "            model_name = \"Random Forest \" + model_name\n",
    "            models[model_name] = pickle.load(f)\n",
    "\n",
    "    for model_name, model in models.items():\n",
    "        total_prediction_time = 0\n",
    "        for test_data_folder in test_data_folders:\n",
    "            image_files = glob.glob(os.path.join(test_data_folder, '*.jpg'))\n",
    "            for image_file in image_files:\n",
    "                image = cv2.imread(image_file, cv2.IMREAD_GRAYSCALE)\n",
    "                _, prediction_time = predict_image(model, image, desc)\n",
    "                total_prediction_time += prediction_time\n",
    "\n",
    "        average_time = total_prediction_time / total_images\n",
    "\n",
    "        if print_message:\n",
    "            print(f\"Model {model_name} telah selesai memprediksi {total_images} gambar.\")\n",
    "\n",
    "        average_times.append({'Model': model_name, 'Average Prediction Time (s)': average_time})\n",
    "\n",
    "    return pd.DataFrame(average_times)\n"
   ]
  },
  {
   "cell_type": "markdown",
   "metadata": {},
   "source": [
    "# Num Points 8 Radius 1"
   ]
  },
  {
   "cell_type": "code",
   "execution_count": 5,
   "metadata": {},
   "outputs": [
    {
     "name": "stdout",
     "output_type": "stream",
     "text": [
      "Model Random Forest svml_n8r1 telah selesai memprediksi 8000 gambar.\n",
      "Model Random Forest svmp_n8r1 telah selesai memprediksi 8000 gambar.\n",
      "Model Random Forest svmr_n8r1 telah selesai memprediksi 8000 gambar.\n",
      "Model Random Forest svms_n8r1 telah selesai memprediksi 8000 gambar.\n"
     ]
    }
   ],
   "source": [
    "if __name__ == \"__main__\":\n",
    "    models_folder = \"Modelling Support Vector Machine/Model SVM/Num Points 8 Radius 1\"\n",
    "    test_data_folders = [\"Dataset/Test/Negative\", \"Dataset/Test/Positive\"]\n",
    "    num_points = 8\n",
    "    radius = 1\n",
    "    df_1 = main(models_folder, test_data_folders, num_points, radius)"
   ]
  },
  {
   "cell_type": "code",
   "execution_count": 6,
   "metadata": {},
   "outputs": [
    {
     "data": {
      "text/html": [
       "<div>\n",
       "<style scoped>\n",
       "    .dataframe tbody tr th:only-of-type {\n",
       "        vertical-align: middle;\n",
       "    }\n",
       "\n",
       "    .dataframe tbody tr th {\n",
       "        vertical-align: top;\n",
       "    }\n",
       "\n",
       "    .dataframe thead th {\n",
       "        text-align: right;\n",
       "    }\n",
       "</style>\n",
       "<table border=\"1\" class=\"dataframe\">\n",
       "  <thead>\n",
       "    <tr style=\"text-align: right;\">\n",
       "      <th></th>\n",
       "      <th>Model</th>\n",
       "      <th>Average Prediction Time (s)</th>\n",
       "    </tr>\n",
       "  </thead>\n",
       "  <tbody>\n",
       "    <tr>\n",
       "      <th>0</th>\n",
       "      <td>Random Forest svml_n8r1</td>\n",
       "      <td>0.009384</td>\n",
       "    </tr>\n",
       "    <tr>\n",
       "      <th>1</th>\n",
       "      <td>Random Forest svmp_n8r1</td>\n",
       "      <td>0.009004</td>\n",
       "    </tr>\n",
       "    <tr>\n",
       "      <th>2</th>\n",
       "      <td>Random Forest svmr_n8r1</td>\n",
       "      <td>0.009655</td>\n",
       "    </tr>\n",
       "    <tr>\n",
       "      <th>3</th>\n",
       "      <td>Random Forest svms_n8r1</td>\n",
       "      <td>0.009591</td>\n",
       "    </tr>\n",
       "  </tbody>\n",
       "</table>\n",
       "</div>"
      ],
      "text/plain": [
       "                     Model  Average Prediction Time (s)\n",
       "0  Random Forest svml_n8r1                     0.009384\n",
       "1  Random Forest svmp_n8r1                     0.009004\n",
       "2  Random Forest svmr_n8r1                     0.009655\n",
       "3  Random Forest svms_n8r1                     0.009591"
      ]
     },
     "execution_count": 6,
     "metadata": {},
     "output_type": "execute_result"
    }
   ],
   "source": [
    "# Call Df to see the result\n",
    "df_1"
   ]
  },
  {
   "cell_type": "markdown",
   "metadata": {},
   "source": [
    "# Num Points 8 Radius 2"
   ]
  },
  {
   "cell_type": "code",
   "execution_count": 7,
   "metadata": {},
   "outputs": [
    {
     "name": "stdout",
     "output_type": "stream",
     "text": [
      "Model Random Forest svml_n8r2 telah selesai memprediksi 8000 gambar.\n",
      "Model Random Forest svmp_n8r2 telah selesai memprediksi 8000 gambar.\n",
      "Model Random Forest svmr_n8r2 telah selesai memprediksi 8000 gambar.\n",
      "Model Random Forest svms_n8r2 telah selesai memprediksi 8000 gambar.\n"
     ]
    }
   ],
   "source": [
    "if __name__ == \"__main__\":\n",
    "    models_folder = \"Modelling Support Vector Machine/Model SVM/Num Points 8 Radius 2\"\n",
    "    test_data_folders = [\"Dataset/Test/Negative\", \"Dataset/Test/Positive\"]\n",
    "    num_points = 8\n",
    "    radius = 2\n",
    "    df_2 = main(models_folder, test_data_folders, num_points, radius)\n",
    "    df_2"
   ]
  },
  {
   "cell_type": "code",
   "execution_count": 8,
   "metadata": {},
   "outputs": [
    {
     "data": {
      "text/html": [
       "<div>\n",
       "<style scoped>\n",
       "    .dataframe tbody tr th:only-of-type {\n",
       "        vertical-align: middle;\n",
       "    }\n",
       "\n",
       "    .dataframe tbody tr th {\n",
       "        vertical-align: top;\n",
       "    }\n",
       "\n",
       "    .dataframe thead th {\n",
       "        text-align: right;\n",
       "    }\n",
       "</style>\n",
       "<table border=\"1\" class=\"dataframe\">\n",
       "  <thead>\n",
       "    <tr style=\"text-align: right;\">\n",
       "      <th></th>\n",
       "      <th>Model</th>\n",
       "      <th>Average Prediction Time (s)</th>\n",
       "    </tr>\n",
       "  </thead>\n",
       "  <tbody>\n",
       "    <tr>\n",
       "      <th>0</th>\n",
       "      <td>Random Forest svml_n8r2</td>\n",
       "      <td>0.009213</td>\n",
       "    </tr>\n",
       "    <tr>\n",
       "      <th>1</th>\n",
       "      <td>Random Forest svmp_n8r2</td>\n",
       "      <td>0.009007</td>\n",
       "    </tr>\n",
       "    <tr>\n",
       "      <th>2</th>\n",
       "      <td>Random Forest svmr_n8r2</td>\n",
       "      <td>0.009431</td>\n",
       "    </tr>\n",
       "    <tr>\n",
       "      <th>3</th>\n",
       "      <td>Random Forest svms_n8r2</td>\n",
       "      <td>0.010113</td>\n",
       "    </tr>\n",
       "  </tbody>\n",
       "</table>\n",
       "</div>"
      ],
      "text/plain": [
       "                     Model  Average Prediction Time (s)\n",
       "0  Random Forest svml_n8r2                     0.009213\n",
       "1  Random Forest svmp_n8r2                     0.009007\n",
       "2  Random Forest svmr_n8r2                     0.009431\n",
       "3  Random Forest svms_n8r2                     0.010113"
      ]
     },
     "execution_count": 8,
     "metadata": {},
     "output_type": "execute_result"
    }
   ],
   "source": [
    "# Call Df to see the result\n",
    "df_2"
   ]
  },
  {
   "cell_type": "markdown",
   "metadata": {},
   "source": [
    "# Num Points 8 Radius 3"
   ]
  },
  {
   "cell_type": "code",
   "execution_count": 9,
   "metadata": {},
   "outputs": [
    {
     "name": "stdout",
     "output_type": "stream",
     "text": [
      "Model Random Forest svml_n8r3 telah selesai memprediksi 8000 gambar.\n",
      "Model Random Forest svmp_n8r3 telah selesai memprediksi 8000 gambar.\n",
      "Model Random Forest svmr_n8r3 telah selesai memprediksi 8000 gambar.\n",
      "Model Random Forest svms_n8r3 telah selesai memprediksi 8000 gambar.\n"
     ]
    }
   ],
   "source": [
    "if __name__ == \"__main__\":\n",
    "    models_folder = \"Modelling Support Vector Machine/Model SVM/Num Points 8 Radius 3\"\n",
    "    test_data_folders = [\"Dataset/Test/Negative\", \"Dataset/Test/Positive\"]\n",
    "    num_points = 8\n",
    "    radius = 3\n",
    "    df_3 = main(models_folder, test_data_folders, num_points, radius)\n",
    "    df_3"
   ]
  },
  {
   "cell_type": "code",
   "execution_count": 10,
   "metadata": {},
   "outputs": [
    {
     "data": {
      "text/html": [
       "<div>\n",
       "<style scoped>\n",
       "    .dataframe tbody tr th:only-of-type {\n",
       "        vertical-align: middle;\n",
       "    }\n",
       "\n",
       "    .dataframe tbody tr th {\n",
       "        vertical-align: top;\n",
       "    }\n",
       "\n",
       "    .dataframe thead th {\n",
       "        text-align: right;\n",
       "    }\n",
       "</style>\n",
       "<table border=\"1\" class=\"dataframe\">\n",
       "  <thead>\n",
       "    <tr style=\"text-align: right;\">\n",
       "      <th></th>\n",
       "      <th>Model</th>\n",
       "      <th>Average Prediction Time (s)</th>\n",
       "    </tr>\n",
       "  </thead>\n",
       "  <tbody>\n",
       "    <tr>\n",
       "      <th>0</th>\n",
       "      <td>Random Forest svml_n8r3</td>\n",
       "      <td>0.009254</td>\n",
       "    </tr>\n",
       "    <tr>\n",
       "      <th>1</th>\n",
       "      <td>Random Forest svmp_n8r3</td>\n",
       "      <td>0.009047</td>\n",
       "    </tr>\n",
       "    <tr>\n",
       "      <th>2</th>\n",
       "      <td>Random Forest svmr_n8r3</td>\n",
       "      <td>0.009341</td>\n",
       "    </tr>\n",
       "    <tr>\n",
       "      <th>3</th>\n",
       "      <td>Random Forest svms_n8r3</td>\n",
       "      <td>0.010058</td>\n",
       "    </tr>\n",
       "  </tbody>\n",
       "</table>\n",
       "</div>"
      ],
      "text/plain": [
       "                     Model  Average Prediction Time (s)\n",
       "0  Random Forest svml_n8r3                     0.009254\n",
       "1  Random Forest svmp_n8r3                     0.009047\n",
       "2  Random Forest svmr_n8r3                     0.009341\n",
       "3  Random Forest svms_n8r3                     0.010058"
      ]
     },
     "execution_count": 10,
     "metadata": {},
     "output_type": "execute_result"
    }
   ],
   "source": [
    "# Call Df to see the result\n",
    "df_3"
   ]
  },
  {
   "cell_type": "markdown",
   "metadata": {},
   "source": [
    "# Num Points 8 Radius 4"
   ]
  },
  {
   "cell_type": "code",
   "execution_count": 11,
   "metadata": {},
   "outputs": [
    {
     "name": "stdout",
     "output_type": "stream",
     "text": [
      "Model Random Forest svml_n8r4 telah selesai memprediksi 8000 gambar.\n",
      "Model Random Forest svmp_n8r4 telah selesai memprediksi 8000 gambar.\n",
      "Model Random Forest svmr_n8r4 telah selesai memprediksi 8000 gambar.\n",
      "Model Random Forest svms_n8r4 telah selesai memprediksi 8000 gambar.\n"
     ]
    }
   ],
   "source": [
    "if __name__ == \"__main__\":\n",
    "    models_folder = \"Modelling Support Vector Machine/Model SVM/Num Points 8 Radius 4\"\n",
    "    test_data_folders = [\"Dataset/Test/Negative\", \"Dataset/Test/Positive\"]\n",
    "    num_points = 8\n",
    "    radius = 4\n",
    "    df_4 = main(models_folder, test_data_folders, num_points, radius)\n",
    "    df_4"
   ]
  },
  {
   "cell_type": "code",
   "execution_count": 12,
   "metadata": {},
   "outputs": [
    {
     "data": {
      "text/html": [
       "<div>\n",
       "<style scoped>\n",
       "    .dataframe tbody tr th:only-of-type {\n",
       "        vertical-align: middle;\n",
       "    }\n",
       "\n",
       "    .dataframe tbody tr th {\n",
       "        vertical-align: top;\n",
       "    }\n",
       "\n",
       "    .dataframe thead th {\n",
       "        text-align: right;\n",
       "    }\n",
       "</style>\n",
       "<table border=\"1\" class=\"dataframe\">\n",
       "  <thead>\n",
       "    <tr style=\"text-align: right;\">\n",
       "      <th></th>\n",
       "      <th>Model</th>\n",
       "      <th>Average Prediction Time (s)</th>\n",
       "    </tr>\n",
       "  </thead>\n",
       "  <tbody>\n",
       "    <tr>\n",
       "      <th>0</th>\n",
       "      <td>Random Forest svml_n8r4</td>\n",
       "      <td>0.009212</td>\n",
       "    </tr>\n",
       "    <tr>\n",
       "      <th>1</th>\n",
       "      <td>Random Forest svmp_n8r4</td>\n",
       "      <td>0.008992</td>\n",
       "    </tr>\n",
       "    <tr>\n",
       "      <th>2</th>\n",
       "      <td>Random Forest svmr_n8r4</td>\n",
       "      <td>0.009306</td>\n",
       "    </tr>\n",
       "    <tr>\n",
       "      <th>3</th>\n",
       "      <td>Random Forest svms_n8r4</td>\n",
       "      <td>0.009824</td>\n",
       "    </tr>\n",
       "  </tbody>\n",
       "</table>\n",
       "</div>"
      ],
      "text/plain": [
       "                     Model  Average Prediction Time (s)\n",
       "0  Random Forest svml_n8r4                     0.009212\n",
       "1  Random Forest svmp_n8r4                     0.008992\n",
       "2  Random Forest svmr_n8r4                     0.009306\n",
       "3  Random Forest svms_n8r4                     0.009824"
      ]
     },
     "execution_count": 12,
     "metadata": {},
     "output_type": "execute_result"
    }
   ],
   "source": [
    "# Call Df to see the result\n",
    "df_4"
   ]
  },
  {
   "cell_type": "markdown",
   "metadata": {},
   "source": [
    "# Num Points 8 Radius 5"
   ]
  },
  {
   "cell_type": "code",
   "execution_count": 13,
   "metadata": {},
   "outputs": [
    {
     "name": "stdout",
     "output_type": "stream",
     "text": [
      "Model Random Forest svml_n8r5 telah selesai memprediksi 8000 gambar.\n",
      "Model Random Forest svmp_n8r5 telah selesai memprediksi 8000 gambar.\n",
      "Model Random Forest svmr_n8r5 telah selesai memprediksi 8000 gambar.\n",
      "Model Random Forest svms_n8r5 telah selesai memprediksi 8000 gambar.\n"
     ]
    }
   ],
   "source": [
    "if __name__ == \"__main__\":\n",
    "    models_folder = \"Modelling Support Vector Machine/Model SVM/Num Points 8 Radius 5\"\n",
    "    test_data_folders = [\"Dataset/Test/Negative\", \"Dataset/Test/Positive\"]\n",
    "    num_points = 8\n",
    "    radius = 5\n",
    "    df_5 = main(models_folder, test_data_folders, num_points, radius)\n",
    "    df_5 "
   ]
  },
  {
   "cell_type": "code",
   "execution_count": 14,
   "metadata": {},
   "outputs": [
    {
     "data": {
      "text/html": [
       "<div>\n",
       "<style scoped>\n",
       "    .dataframe tbody tr th:only-of-type {\n",
       "        vertical-align: middle;\n",
       "    }\n",
       "\n",
       "    .dataframe tbody tr th {\n",
       "        vertical-align: top;\n",
       "    }\n",
       "\n",
       "    .dataframe thead th {\n",
       "        text-align: right;\n",
       "    }\n",
       "</style>\n",
       "<table border=\"1\" class=\"dataframe\">\n",
       "  <thead>\n",
       "    <tr style=\"text-align: right;\">\n",
       "      <th></th>\n",
       "      <th>Model</th>\n",
       "      <th>Average Prediction Time (s)</th>\n",
       "    </tr>\n",
       "  </thead>\n",
       "  <tbody>\n",
       "    <tr>\n",
       "      <th>0</th>\n",
       "      <td>Random Forest svml_n8r5</td>\n",
       "      <td>0.009146</td>\n",
       "    </tr>\n",
       "    <tr>\n",
       "      <th>1</th>\n",
       "      <td>Random Forest svmp_n8r5</td>\n",
       "      <td>0.008997</td>\n",
       "    </tr>\n",
       "    <tr>\n",
       "      <th>2</th>\n",
       "      <td>Random Forest svmr_n8r5</td>\n",
       "      <td>0.009256</td>\n",
       "    </tr>\n",
       "    <tr>\n",
       "      <th>3</th>\n",
       "      <td>Random Forest svms_n8r5</td>\n",
       "      <td>0.009911</td>\n",
       "    </tr>\n",
       "  </tbody>\n",
       "</table>\n",
       "</div>"
      ],
      "text/plain": [
       "                     Model  Average Prediction Time (s)\n",
       "0  Random Forest svml_n8r5                     0.009146\n",
       "1  Random Forest svmp_n8r5                     0.008997\n",
       "2  Random Forest svmr_n8r5                     0.009256\n",
       "3  Random Forest svms_n8r5                     0.009911"
      ]
     },
     "execution_count": 14,
     "metadata": {},
     "output_type": "execute_result"
    }
   ],
   "source": [
    "# Call Df to see the result\n",
    "df_5"
   ]
  },
  {
   "cell_type": "markdown",
   "metadata": {},
   "source": [
    "# Num Points 24 Radius 1"
   ]
  },
  {
   "cell_type": "code",
   "execution_count": 15,
   "metadata": {},
   "outputs": [
    {
     "name": "stdout",
     "output_type": "stream",
     "text": [
      "Model Random Forest svml_n24r1 telah selesai memprediksi 8000 gambar.\n",
      "Model Random Forest svmp_n24r1 telah selesai memprediksi 8000 gambar.\n",
      "Model Random Forest svmr_n24r1 telah selesai memprediksi 8000 gambar.\n",
      "Model Random Forest svms_n24r1 telah selesai memprediksi 8000 gambar.\n"
     ]
    }
   ],
   "source": [
    "if __name__ == \"__main__\":\n",
    "    models_folder = \"Modelling Support Vector Machine/Model SVM/Num Points 24 Radius 1\"\n",
    "    test_data_folders = [\"Dataset/Test/Negative\", \"Dataset/Test/Positive\"]\n",
    "    num_points = 24\n",
    "    radius = 1\n",
    "    df_6 = main(models_folder, test_data_folders, num_points, radius)\n",
    "    df_6"
   ]
  },
  {
   "cell_type": "code",
   "execution_count": 16,
   "metadata": {},
   "outputs": [
    {
     "data": {
      "text/html": [
       "<div>\n",
       "<style scoped>\n",
       "    .dataframe tbody tr th:only-of-type {\n",
       "        vertical-align: middle;\n",
       "    }\n",
       "\n",
       "    .dataframe tbody tr th {\n",
       "        vertical-align: top;\n",
       "    }\n",
       "\n",
       "    .dataframe thead th {\n",
       "        text-align: right;\n",
       "    }\n",
       "</style>\n",
       "<table border=\"1\" class=\"dataframe\">\n",
       "  <thead>\n",
       "    <tr style=\"text-align: right;\">\n",
       "      <th></th>\n",
       "      <th>Model</th>\n",
       "      <th>Average Prediction Time (s)</th>\n",
       "    </tr>\n",
       "  </thead>\n",
       "  <tbody>\n",
       "    <tr>\n",
       "      <th>0</th>\n",
       "      <td>Random Forest svml_n24r1</td>\n",
       "      <td>0.025102</td>\n",
       "    </tr>\n",
       "    <tr>\n",
       "      <th>1</th>\n",
       "      <td>Random Forest svmp_n24r1</td>\n",
       "      <td>0.024961</td>\n",
       "    </tr>\n",
       "    <tr>\n",
       "      <th>2</th>\n",
       "      <td>Random Forest svmr_n24r1</td>\n",
       "      <td>0.024408</td>\n",
       "    </tr>\n",
       "    <tr>\n",
       "      <th>3</th>\n",
       "      <td>Random Forest svms_n24r1</td>\n",
       "      <td>0.024435</td>\n",
       "    </tr>\n",
       "  </tbody>\n",
       "</table>\n",
       "</div>"
      ],
      "text/plain": [
       "                      Model  Average Prediction Time (s)\n",
       "0  Random Forest svml_n24r1                     0.025102\n",
       "1  Random Forest svmp_n24r1                     0.024961\n",
       "2  Random Forest svmr_n24r1                     0.024408\n",
       "3  Random Forest svms_n24r1                     0.024435"
      ]
     },
     "execution_count": 16,
     "metadata": {},
     "output_type": "execute_result"
    }
   ],
   "source": [
    "# Call Df to see the result\n",
    "df_6"
   ]
  },
  {
   "cell_type": "markdown",
   "metadata": {},
   "source": [
    "# Num Points 24 Radius 2"
   ]
  },
  {
   "cell_type": "code",
   "execution_count": 17,
   "metadata": {},
   "outputs": [
    {
     "name": "stdout",
     "output_type": "stream",
     "text": [
      "Model Random Forest svml_n24r2 telah selesai memprediksi 8000 gambar.\n",
      "Model Random Forest svmp_n24r2 telah selesai memprediksi 8000 gambar.\n",
      "Model Random Forest svmr_n24r2 telah selesai memprediksi 8000 gambar.\n",
      "Model Random Forest svms_n24r2 telah selesai memprediksi 8000 gambar.\n"
     ]
    }
   ],
   "source": [
    "if __name__ == \"__main__\":\n",
    "    models_folder = \"Modelling Support Vector Machine/Model SVM/Num Points 24 Radius 2\"\n",
    "    test_data_folders = [\"Dataset/Test/Negative\", \"Dataset/Test/Positive\"]\n",
    "    num_points = 24\n",
    "    radius = 2\n",
    "    df_7 = main(models_folder, test_data_folders, num_points, radius)\n",
    "    df_7"
   ]
  },
  {
   "cell_type": "code",
   "execution_count": 18,
   "metadata": {},
   "outputs": [
    {
     "data": {
      "text/html": [
       "<div>\n",
       "<style scoped>\n",
       "    .dataframe tbody tr th:only-of-type {\n",
       "        vertical-align: middle;\n",
       "    }\n",
       "\n",
       "    .dataframe tbody tr th {\n",
       "        vertical-align: top;\n",
       "    }\n",
       "\n",
       "    .dataframe thead th {\n",
       "        text-align: right;\n",
       "    }\n",
       "</style>\n",
       "<table border=\"1\" class=\"dataframe\">\n",
       "  <thead>\n",
       "    <tr style=\"text-align: right;\">\n",
       "      <th></th>\n",
       "      <th>Model</th>\n",
       "      <th>Average Prediction Time (s)</th>\n",
       "    </tr>\n",
       "  </thead>\n",
       "  <tbody>\n",
       "    <tr>\n",
       "      <th>0</th>\n",
       "      <td>Random Forest svml_n24r2</td>\n",
       "      <td>0.024047</td>\n",
       "    </tr>\n",
       "    <tr>\n",
       "      <th>1</th>\n",
       "      <td>Random Forest svmp_n24r2</td>\n",
       "      <td>0.023641</td>\n",
       "    </tr>\n",
       "    <tr>\n",
       "      <th>2</th>\n",
       "      <td>Random Forest svmr_n24r2</td>\n",
       "      <td>0.024159</td>\n",
       "    </tr>\n",
       "    <tr>\n",
       "      <th>3</th>\n",
       "      <td>Random Forest svms_n24r2</td>\n",
       "      <td>0.024160</td>\n",
       "    </tr>\n",
       "  </tbody>\n",
       "</table>\n",
       "</div>"
      ],
      "text/plain": [
       "                      Model  Average Prediction Time (s)\n",
       "0  Random Forest svml_n24r2                     0.024047\n",
       "1  Random Forest svmp_n24r2                     0.023641\n",
       "2  Random Forest svmr_n24r2                     0.024159\n",
       "3  Random Forest svms_n24r2                     0.024160"
      ]
     },
     "execution_count": 18,
     "metadata": {},
     "output_type": "execute_result"
    }
   ],
   "source": [
    "# Call Df to see the result\n",
    "df_7"
   ]
  },
  {
   "cell_type": "markdown",
   "metadata": {},
   "source": [
    "# Num Points 24 Radius 3"
   ]
  },
  {
   "cell_type": "code",
   "execution_count": 19,
   "metadata": {},
   "outputs": [
    {
     "name": "stdout",
     "output_type": "stream",
     "text": [
      "Model Random Forest svml_n24r3 telah selesai memprediksi 8000 gambar.\n",
      "Model Random Forest svmp_n24r3 telah selesai memprediksi 8000 gambar.\n",
      "Model Random Forest svmr_n24r3 telah selesai memprediksi 8000 gambar.\n",
      "Model Random Forest svms_n24r3 telah selesai memprediksi 8000 gambar.\n"
     ]
    }
   ],
   "source": [
    "if __name__ == \"__main__\":\n",
    "    models_folder = \"Modelling Support Vector Machine/Model SVM/Num Points 24 Radius 3\"\n",
    "    test_data_folders = [\"Dataset/Test/Negative\", \"Dataset/Test/Positive\"]\n",
    "    num_points = 24\n",
    "    radius = 3\n",
    "    df_8 = main(models_folder, test_data_folders, num_points, radius)\n",
    "    df_8"
   ]
  },
  {
   "cell_type": "code",
   "execution_count": 20,
   "metadata": {},
   "outputs": [
    {
     "data": {
      "text/html": [
       "<div>\n",
       "<style scoped>\n",
       "    .dataframe tbody tr th:only-of-type {\n",
       "        vertical-align: middle;\n",
       "    }\n",
       "\n",
       "    .dataframe tbody tr th {\n",
       "        vertical-align: top;\n",
       "    }\n",
       "\n",
       "    .dataframe thead th {\n",
       "        text-align: right;\n",
       "    }\n",
       "</style>\n",
       "<table border=\"1\" class=\"dataframe\">\n",
       "  <thead>\n",
       "    <tr style=\"text-align: right;\">\n",
       "      <th></th>\n",
       "      <th>Model</th>\n",
       "      <th>Average Prediction Time (s)</th>\n",
       "    </tr>\n",
       "  </thead>\n",
       "  <tbody>\n",
       "    <tr>\n",
       "      <th>0</th>\n",
       "      <td>Random Forest svml_n24r3</td>\n",
       "      <td>0.024104</td>\n",
       "    </tr>\n",
       "    <tr>\n",
       "      <th>1</th>\n",
       "      <td>Random Forest svmp_n24r3</td>\n",
       "      <td>0.023652</td>\n",
       "    </tr>\n",
       "    <tr>\n",
       "      <th>2</th>\n",
       "      <td>Random Forest svmr_n24r3</td>\n",
       "      <td>0.024178</td>\n",
       "    </tr>\n",
       "    <tr>\n",
       "      <th>3</th>\n",
       "      <td>Random Forest svms_n24r3</td>\n",
       "      <td>0.024284</td>\n",
       "    </tr>\n",
       "  </tbody>\n",
       "</table>\n",
       "</div>"
      ],
      "text/plain": [
       "                      Model  Average Prediction Time (s)\n",
       "0  Random Forest svml_n24r3                     0.024104\n",
       "1  Random Forest svmp_n24r3                     0.023652\n",
       "2  Random Forest svmr_n24r3                     0.024178\n",
       "3  Random Forest svms_n24r3                     0.024284"
      ]
     },
     "execution_count": 20,
     "metadata": {},
     "output_type": "execute_result"
    }
   ],
   "source": [
    "# Call Df to see the result\n",
    "df_8"
   ]
  },
  {
   "cell_type": "markdown",
   "metadata": {},
   "source": [
    "# Num Points 24 Radius 4"
   ]
  },
  {
   "cell_type": "code",
   "execution_count": 21,
   "metadata": {},
   "outputs": [
    {
     "name": "stdout",
     "output_type": "stream",
     "text": [
      "Model Random Forest svml_n24r4 telah selesai memprediksi 8000 gambar.\n",
      "Model Random Forest svmp_n24r4 telah selesai memprediksi 8000 gambar.\n",
      "Model Random Forest svmr_n24r4 telah selesai memprediksi 8000 gambar.\n",
      "Model Random Forest svms_n24r4 telah selesai memprediksi 8000 gambar.\n"
     ]
    }
   ],
   "source": [
    "if __name__ == \"__main__\":\n",
    "    models_folder = \"Modelling Support Vector Machine/Model SVM/Num Points 24 Radius 4\"\n",
    "    test_data_folders = [\"Dataset/Test/Negative\", \"Dataset/Test/Positive\"]\n",
    "    num_points = 24\n",
    "    radius = 4\n",
    "    df_9 = main(models_folder, test_data_folders, num_points, radius)\n",
    "    df_9"
   ]
  },
  {
   "cell_type": "code",
   "execution_count": 22,
   "metadata": {},
   "outputs": [
    {
     "data": {
      "text/html": [
       "<div>\n",
       "<style scoped>\n",
       "    .dataframe tbody tr th:only-of-type {\n",
       "        vertical-align: middle;\n",
       "    }\n",
       "\n",
       "    .dataframe tbody tr th {\n",
       "        vertical-align: top;\n",
       "    }\n",
       "\n",
       "    .dataframe thead th {\n",
       "        text-align: right;\n",
       "    }\n",
       "</style>\n",
       "<table border=\"1\" class=\"dataframe\">\n",
       "  <thead>\n",
       "    <tr style=\"text-align: right;\">\n",
       "      <th></th>\n",
       "      <th>Model</th>\n",
       "      <th>Average Prediction Time (s)</th>\n",
       "    </tr>\n",
       "  </thead>\n",
       "  <tbody>\n",
       "    <tr>\n",
       "      <th>0</th>\n",
       "      <td>Random Forest svml_n24r4</td>\n",
       "      <td>0.023853</td>\n",
       "    </tr>\n",
       "    <tr>\n",
       "      <th>1</th>\n",
       "      <td>Random Forest svmp_n24r4</td>\n",
       "      <td>0.023625</td>\n",
       "    </tr>\n",
       "    <tr>\n",
       "      <th>2</th>\n",
       "      <td>Random Forest svmr_n24r4</td>\n",
       "      <td>0.023969</td>\n",
       "    </tr>\n",
       "    <tr>\n",
       "      <th>3</th>\n",
       "      <td>Random Forest svms_n24r4</td>\n",
       "      <td>0.024123</td>\n",
       "    </tr>\n",
       "  </tbody>\n",
       "</table>\n",
       "</div>"
      ],
      "text/plain": [
       "                      Model  Average Prediction Time (s)\n",
       "0  Random Forest svml_n24r4                     0.023853\n",
       "1  Random Forest svmp_n24r4                     0.023625\n",
       "2  Random Forest svmr_n24r4                     0.023969\n",
       "3  Random Forest svms_n24r4                     0.024123"
      ]
     },
     "execution_count": 22,
     "metadata": {},
     "output_type": "execute_result"
    }
   ],
   "source": [
    "# Call Df to see the result\n",
    "df_9"
   ]
  },
  {
   "cell_type": "markdown",
   "metadata": {},
   "source": [
    "# Num Points 24 Radius 5"
   ]
  },
  {
   "cell_type": "code",
   "execution_count": 23,
   "metadata": {},
   "outputs": [
    {
     "name": "stdout",
     "output_type": "stream",
     "text": [
      "Model Random Forest svml_n24r5 telah selesai memprediksi 8000 gambar.\n",
      "Model Random Forest svmp_n24r5 telah selesai memprediksi 8000 gambar.\n",
      "Model Random Forest svmr_n24r5 telah selesai memprediksi 8000 gambar.\n",
      "Model Random Forest svms_n24r5 telah selesai memprediksi 8000 gambar.\n"
     ]
    }
   ],
   "source": [
    "if __name__ == \"__main__\":\n",
    "    models_folder = \"Modelling Support Vector Machine/Model SVM/Num Points 24 Radius 5\"\n",
    "    test_data_folders = [\"Dataset/Test/Negative\", \"Dataset/Test/Positive\"]\n",
    "    num_points = 24\n",
    "    radius = 5\n",
    "    df_10 = main(models_folder, test_data_folders, num_points, radius)\n",
    "    df_10"
   ]
  },
  {
   "cell_type": "code",
   "execution_count": 24,
   "metadata": {},
   "outputs": [
    {
     "data": {
      "text/html": [
       "<div>\n",
       "<style scoped>\n",
       "    .dataframe tbody tr th:only-of-type {\n",
       "        vertical-align: middle;\n",
       "    }\n",
       "\n",
       "    .dataframe tbody tr th {\n",
       "        vertical-align: top;\n",
       "    }\n",
       "\n",
       "    .dataframe thead th {\n",
       "        text-align: right;\n",
       "    }\n",
       "</style>\n",
       "<table border=\"1\" class=\"dataframe\">\n",
       "  <thead>\n",
       "    <tr style=\"text-align: right;\">\n",
       "      <th></th>\n",
       "      <th>Model</th>\n",
       "      <th>Average Prediction Time (s)</th>\n",
       "    </tr>\n",
       "  </thead>\n",
       "  <tbody>\n",
       "    <tr>\n",
       "      <th>0</th>\n",
       "      <td>Random Forest svml_n24r5</td>\n",
       "      <td>0.026442</td>\n",
       "    </tr>\n",
       "    <tr>\n",
       "      <th>1</th>\n",
       "      <td>Random Forest svmp_n24r5</td>\n",
       "      <td>0.026276</td>\n",
       "    </tr>\n",
       "    <tr>\n",
       "      <th>2</th>\n",
       "      <td>Random Forest svmr_n24r5</td>\n",
       "      <td>0.025546</td>\n",
       "    </tr>\n",
       "    <tr>\n",
       "      <th>3</th>\n",
       "      <td>Random Forest svms_n24r5</td>\n",
       "      <td>0.024970</td>\n",
       "    </tr>\n",
       "  </tbody>\n",
       "</table>\n",
       "</div>"
      ],
      "text/plain": [
       "                      Model  Average Prediction Time (s)\n",
       "0  Random Forest svml_n24r5                     0.026442\n",
       "1  Random Forest svmp_n24r5                     0.026276\n",
       "2  Random Forest svmr_n24r5                     0.025546\n",
       "3  Random Forest svms_n24r5                     0.024970"
      ]
     },
     "execution_count": 24,
     "metadata": {},
     "output_type": "execute_result"
    }
   ],
   "source": [
    "# Call Df to see the result\n",
    "df_10"
   ]
  },
  {
   "cell_type": "markdown",
   "metadata": {},
   "source": [
    "# Num Points 48 Radius 1"
   ]
  },
  {
   "cell_type": "code",
   "execution_count": 25,
   "metadata": {},
   "outputs": [
    {
     "name": "stdout",
     "output_type": "stream",
     "text": [
      "Model Random Forest svml_n48r1 telah selesai memprediksi 8000 gambar.\n",
      "Model Random Forest svmp_n48r1 telah selesai memprediksi 8000 gambar.\n",
      "Model Random Forest svmr_n48r1 telah selesai memprediksi 8000 gambar.\n",
      "Model Random Forest svms_n48r1 telah selesai memprediksi 8000 gambar.\n"
     ]
    }
   ],
   "source": [
    "if __name__ == \"__main__\":\n",
    "    models_folder = \"Modelling Support Vector Machine/Model SVM/Num Points 48 Radius 1\"\n",
    "    test_data_folders = [\"Dataset/Test/Negative\", \"Dataset/Test/Positive\"]\n",
    "    num_points = 48\n",
    "    radius = 1\n",
    "    df_11 = main(models_folder, test_data_folders, num_points, radius)"
   ]
  },
  {
   "cell_type": "code",
   "execution_count": 26,
   "metadata": {},
   "outputs": [
    {
     "data": {
      "text/html": [
       "<div>\n",
       "<style scoped>\n",
       "    .dataframe tbody tr th:only-of-type {\n",
       "        vertical-align: middle;\n",
       "    }\n",
       "\n",
       "    .dataframe tbody tr th {\n",
       "        vertical-align: top;\n",
       "    }\n",
       "\n",
       "    .dataframe thead th {\n",
       "        text-align: right;\n",
       "    }\n",
       "</style>\n",
       "<table border=\"1\" class=\"dataframe\">\n",
       "  <thead>\n",
       "    <tr style=\"text-align: right;\">\n",
       "      <th></th>\n",
       "      <th>Model</th>\n",
       "      <th>Average Prediction Time (s)</th>\n",
       "    </tr>\n",
       "  </thead>\n",
       "  <tbody>\n",
       "    <tr>\n",
       "      <th>0</th>\n",
       "      <td>Random Forest svml_n48r1</td>\n",
       "      <td>0.051492</td>\n",
       "    </tr>\n",
       "    <tr>\n",
       "      <th>1</th>\n",
       "      <td>Random Forest svmp_n48r1</td>\n",
       "      <td>0.050535</td>\n",
       "    </tr>\n",
       "    <tr>\n",
       "      <th>2</th>\n",
       "      <td>Random Forest svmr_n48r1</td>\n",
       "      <td>0.048043</td>\n",
       "    </tr>\n",
       "    <tr>\n",
       "      <th>3</th>\n",
       "      <td>Random Forest svms_n48r1</td>\n",
       "      <td>0.046470</td>\n",
       "    </tr>\n",
       "  </tbody>\n",
       "</table>\n",
       "</div>"
      ],
      "text/plain": [
       "                      Model  Average Prediction Time (s)\n",
       "0  Random Forest svml_n48r1                     0.051492\n",
       "1  Random Forest svmp_n48r1                     0.050535\n",
       "2  Random Forest svmr_n48r1                     0.048043\n",
       "3  Random Forest svms_n48r1                     0.046470"
      ]
     },
     "execution_count": 26,
     "metadata": {},
     "output_type": "execute_result"
    }
   ],
   "source": [
    "# Call Df to see the result\n",
    "df_11"
   ]
  },
  {
   "cell_type": "markdown",
   "metadata": {},
   "source": [
    "# Num Points 48 Radius 2"
   ]
  },
  {
   "cell_type": "code",
   "execution_count": 27,
   "metadata": {},
   "outputs": [
    {
     "name": "stdout",
     "output_type": "stream",
     "text": [
      "Model Random Forest svml_n48r2 telah selesai memprediksi 8000 gambar.\n",
      "Model Random Forest svmp_n48r2 telah selesai memprediksi 8000 gambar.\n",
      "Model Random Forest svmr_n48r2 telah selesai memprediksi 8000 gambar.\n",
      "Model Random Forest svms_n48r2 telah selesai memprediksi 8000 gambar.\n"
     ]
    }
   ],
   "source": [
    "if __name__ == \"__main__\":\n",
    "    models_folder = \"Modelling Support Vector Machine/Model SVM/Num Points 48 Radius 2\"\n",
    "    test_data_folders = [\"Dataset/Test/Negative\", \"Dataset/Test/Positive\"]\n",
    "    num_points = 48\n",
    "    radius = 2\n",
    "    df_12 = main(models_folder, test_data_folders, num_points, radius)"
   ]
  },
  {
   "cell_type": "code",
   "execution_count": 28,
   "metadata": {},
   "outputs": [
    {
     "data": {
      "text/html": [
       "<div>\n",
       "<style scoped>\n",
       "    .dataframe tbody tr th:only-of-type {\n",
       "        vertical-align: middle;\n",
       "    }\n",
       "\n",
       "    .dataframe tbody tr th {\n",
       "        vertical-align: top;\n",
       "    }\n",
       "\n",
       "    .dataframe thead th {\n",
       "        text-align: right;\n",
       "    }\n",
       "</style>\n",
       "<table border=\"1\" class=\"dataframe\">\n",
       "  <thead>\n",
       "    <tr style=\"text-align: right;\">\n",
       "      <th></th>\n",
       "      <th>Model</th>\n",
       "      <th>Average Prediction Time (s)</th>\n",
       "    </tr>\n",
       "  </thead>\n",
       "  <tbody>\n",
       "    <tr>\n",
       "      <th>0</th>\n",
       "      <td>Random Forest svml_n48r2</td>\n",
       "      <td>0.046938</td>\n",
       "    </tr>\n",
       "    <tr>\n",
       "      <th>1</th>\n",
       "      <td>Random Forest svmp_n48r2</td>\n",
       "      <td>0.046181</td>\n",
       "    </tr>\n",
       "    <tr>\n",
       "      <th>2</th>\n",
       "      <td>Random Forest svmr_n48r2</td>\n",
       "      <td>0.046645</td>\n",
       "    </tr>\n",
       "    <tr>\n",
       "      <th>3</th>\n",
       "      <td>Random Forest svms_n48r2</td>\n",
       "      <td>0.046622</td>\n",
       "    </tr>\n",
       "  </tbody>\n",
       "</table>\n",
       "</div>"
      ],
      "text/plain": [
       "                      Model  Average Prediction Time (s)\n",
       "0  Random Forest svml_n48r2                     0.046938\n",
       "1  Random Forest svmp_n48r2                     0.046181\n",
       "2  Random Forest svmr_n48r2                     0.046645\n",
       "3  Random Forest svms_n48r2                     0.046622"
      ]
     },
     "execution_count": 28,
     "metadata": {},
     "output_type": "execute_result"
    }
   ],
   "source": [
    "# Call Df to see the result\n",
    "df_12"
   ]
  },
  {
   "cell_type": "markdown",
   "metadata": {},
   "source": [
    "# Num Points 48 Radius 3"
   ]
  },
  {
   "cell_type": "code",
   "execution_count": 29,
   "metadata": {},
   "outputs": [
    {
     "name": "stdout",
     "output_type": "stream",
     "text": [
      "Model Random Forest svml_n48r3 telah selesai memprediksi 8000 gambar.\n",
      "Model Random Forest svmp_n48r3 telah selesai memprediksi 8000 gambar.\n",
      "Model Random Forest svmr_n48r3 telah selesai memprediksi 8000 gambar.\n",
      "Model Random Forest svms_n48r3 telah selesai memprediksi 8000 gambar.\n"
     ]
    }
   ],
   "source": [
    "if __name__ == \"__main__\":\n",
    "    models_folder = \"Modelling Support Vector Machine/Model SVM/Num Points 48 Radius 3\"\n",
    "    test_data_folders = [\"Dataset/Test/Negative\", \"Dataset/Test/Positive\"]\n",
    "    num_points = 48\n",
    "    radius = 3\n",
    "    df_13 = main(models_folder, test_data_folders, num_points, radius)"
   ]
  },
  {
   "cell_type": "code",
   "execution_count": 30,
   "metadata": {},
   "outputs": [
    {
     "data": {
      "text/html": [
       "<div>\n",
       "<style scoped>\n",
       "    .dataframe tbody tr th:only-of-type {\n",
       "        vertical-align: middle;\n",
       "    }\n",
       "\n",
       "    .dataframe tbody tr th {\n",
       "        vertical-align: top;\n",
       "    }\n",
       "\n",
       "    .dataframe thead th {\n",
       "        text-align: right;\n",
       "    }\n",
       "</style>\n",
       "<table border=\"1\" class=\"dataframe\">\n",
       "  <thead>\n",
       "    <tr style=\"text-align: right;\">\n",
       "      <th></th>\n",
       "      <th>Model</th>\n",
       "      <th>Average Prediction Time (s)</th>\n",
       "    </tr>\n",
       "  </thead>\n",
       "  <tbody>\n",
       "    <tr>\n",
       "      <th>0</th>\n",
       "      <td>Random Forest svml_n48r3</td>\n",
       "      <td>0.046712</td>\n",
       "    </tr>\n",
       "    <tr>\n",
       "      <th>1</th>\n",
       "      <td>Random Forest svmp_n48r3</td>\n",
       "      <td>0.047118</td>\n",
       "    </tr>\n",
       "    <tr>\n",
       "      <th>2</th>\n",
       "      <td>Random Forest svmr_n48r3</td>\n",
       "      <td>0.047592</td>\n",
       "    </tr>\n",
       "    <tr>\n",
       "      <th>3</th>\n",
       "      <td>Random Forest svms_n48r3</td>\n",
       "      <td>0.047498</td>\n",
       "    </tr>\n",
       "  </tbody>\n",
       "</table>\n",
       "</div>"
      ],
      "text/plain": [
       "                      Model  Average Prediction Time (s)\n",
       "0  Random Forest svml_n48r3                     0.046712\n",
       "1  Random Forest svmp_n48r3                     0.047118\n",
       "2  Random Forest svmr_n48r3                     0.047592\n",
       "3  Random Forest svms_n48r3                     0.047498"
      ]
     },
     "execution_count": 30,
     "metadata": {},
     "output_type": "execute_result"
    }
   ],
   "source": [
    "# Call Df to see the result\n",
    "df_13"
   ]
  },
  {
   "cell_type": "markdown",
   "metadata": {},
   "source": [
    "# Num Points 48 Radius 4"
   ]
  },
  {
   "cell_type": "code",
   "execution_count": 31,
   "metadata": {},
   "outputs": [
    {
     "name": "stdout",
     "output_type": "stream",
     "text": [
      "Model Random Forest svml_n48r4 telah selesai memprediksi 8000 gambar.\n",
      "Model Random Forest svmp_n48r4 telah selesai memprediksi 8000 gambar.\n",
      "Model Random Forest svmr_n48r4 telah selesai memprediksi 8000 gambar.\n",
      "Model Random Forest svms_n48r4 telah selesai memprediksi 8000 gambar.\n"
     ]
    }
   ],
   "source": [
    "if __name__ == \"__main__\":\n",
    "    models_folder = \"Modelling Support Vector Machine/Model SVM/Num Points 48 Radius 4\"\n",
    "    test_data_folders = [\"Dataset/Test/Negative\", \"Dataset/Test/Positive\"]\n",
    "    num_points = 48\n",
    "    radius = 4\n",
    "    df_14 = main(models_folder, test_data_folders, num_points, radius)"
   ]
  },
  {
   "cell_type": "code",
   "execution_count": 32,
   "metadata": {},
   "outputs": [
    {
     "data": {
      "text/html": [
       "<div>\n",
       "<style scoped>\n",
       "    .dataframe tbody tr th:only-of-type {\n",
       "        vertical-align: middle;\n",
       "    }\n",
       "\n",
       "    .dataframe tbody tr th {\n",
       "        vertical-align: top;\n",
       "    }\n",
       "\n",
       "    .dataframe thead th {\n",
       "        text-align: right;\n",
       "    }\n",
       "</style>\n",
       "<table border=\"1\" class=\"dataframe\">\n",
       "  <thead>\n",
       "    <tr style=\"text-align: right;\">\n",
       "      <th></th>\n",
       "      <th>Model</th>\n",
       "      <th>Average Prediction Time (s)</th>\n",
       "    </tr>\n",
       "  </thead>\n",
       "  <tbody>\n",
       "    <tr>\n",
       "      <th>0</th>\n",
       "      <td>Random Forest svml_n48r4</td>\n",
       "      <td>0.045840</td>\n",
       "    </tr>\n",
       "    <tr>\n",
       "      <th>1</th>\n",
       "      <td>Random Forest svmp_n48r4</td>\n",
       "      <td>0.045402</td>\n",
       "    </tr>\n",
       "    <tr>\n",
       "      <th>2</th>\n",
       "      <td>Random Forest svmr_n48r4</td>\n",
       "      <td>0.046083</td>\n",
       "    </tr>\n",
       "    <tr>\n",
       "      <th>3</th>\n",
       "      <td>Random Forest svms_n48r4</td>\n",
       "      <td>0.046008</td>\n",
       "    </tr>\n",
       "  </tbody>\n",
       "</table>\n",
       "</div>"
      ],
      "text/plain": [
       "                      Model  Average Prediction Time (s)\n",
       "0  Random Forest svml_n48r4                     0.045840\n",
       "1  Random Forest svmp_n48r4                     0.045402\n",
       "2  Random Forest svmr_n48r4                     0.046083\n",
       "3  Random Forest svms_n48r4                     0.046008"
      ]
     },
     "execution_count": 32,
     "metadata": {},
     "output_type": "execute_result"
    }
   ],
   "source": [
    "# Call Df to see the result\n",
    "df_14"
   ]
  },
  {
   "cell_type": "markdown",
   "metadata": {},
   "source": [
    "# Num Points 48 Radius 5"
   ]
  },
  {
   "cell_type": "code",
   "execution_count": 33,
   "metadata": {},
   "outputs": [
    {
     "name": "stdout",
     "output_type": "stream",
     "text": [
      "Model Random Forest svml_n48r5 telah selesai memprediksi 8000 gambar.\n",
      "Model Random Forest svmp_n48r5 telah selesai memprediksi 8000 gambar.\n",
      "Model Random Forest svmr_n48r5 telah selesai memprediksi 8000 gambar.\n",
      "Model Random Forest svms_n48r5 telah selesai memprediksi 8000 gambar.\n"
     ]
    }
   ],
   "source": [
    "if __name__ == \"__main__\":\n",
    "    models_folder = \"Modelling Support Vector Machine/Model SVM/Num Points 48 Radius 5\"\n",
    "    test_data_folders = [\"Dataset/Test/Negative\", \"Dataset/Test/Positive\"]\n",
    "    num_points = 48\n",
    "    radius = 5\n",
    "    df_15 = main(models_folder, test_data_folders, num_points, radius)"
   ]
  },
  {
   "cell_type": "code",
   "execution_count": 34,
   "metadata": {},
   "outputs": [
    {
     "data": {
      "text/html": [
       "<div>\n",
       "<style scoped>\n",
       "    .dataframe tbody tr th:only-of-type {\n",
       "        vertical-align: middle;\n",
       "    }\n",
       "\n",
       "    .dataframe tbody tr th {\n",
       "        vertical-align: top;\n",
       "    }\n",
       "\n",
       "    .dataframe thead th {\n",
       "        text-align: right;\n",
       "    }\n",
       "</style>\n",
       "<table border=\"1\" class=\"dataframe\">\n",
       "  <thead>\n",
       "    <tr style=\"text-align: right;\">\n",
       "      <th></th>\n",
       "      <th>Model</th>\n",
       "      <th>Average Prediction Time (s)</th>\n",
       "    </tr>\n",
       "  </thead>\n",
       "  <tbody>\n",
       "    <tr>\n",
       "      <th>0</th>\n",
       "      <td>Random Forest svml_n48r5</td>\n",
       "      <td>0.045271</td>\n",
       "    </tr>\n",
       "    <tr>\n",
       "      <th>1</th>\n",
       "      <td>Random Forest svmp_n48r5</td>\n",
       "      <td>0.044992</td>\n",
       "    </tr>\n",
       "    <tr>\n",
       "      <th>2</th>\n",
       "      <td>Random Forest svmr_n48r5</td>\n",
       "      <td>0.045681</td>\n",
       "    </tr>\n",
       "    <tr>\n",
       "      <th>3</th>\n",
       "      <td>Random Forest svms_n48r5</td>\n",
       "      <td>0.045599</td>\n",
       "    </tr>\n",
       "  </tbody>\n",
       "</table>\n",
       "</div>"
      ],
      "text/plain": [
       "                      Model  Average Prediction Time (s)\n",
       "0  Random Forest svml_n48r5                     0.045271\n",
       "1  Random Forest svmp_n48r5                     0.044992\n",
       "2  Random Forest svmr_n48r5                     0.045681\n",
       "3  Random Forest svms_n48r5                     0.045599"
      ]
     },
     "execution_count": 34,
     "metadata": {},
     "output_type": "execute_result"
    }
   ],
   "source": [
    "# Call Df to see the result\n",
    "df_15"
   ]
  },
  {
   "cell_type": "markdown",
   "metadata": {},
   "source": [
    "# Num Points 80 Radius 1"
   ]
  },
  {
   "cell_type": "code",
   "execution_count": 35,
   "metadata": {},
   "outputs": [
    {
     "name": "stdout",
     "output_type": "stream",
     "text": [
      "Model Random Forest svml_n80r1 telah selesai memprediksi 8000 gambar.\n",
      "Model Random Forest svmp_n80r1 telah selesai memprediksi 8000 gambar.\n",
      "Model Random Forest svmr_n80r1 telah selesai memprediksi 8000 gambar.\n",
      "Model Random Forest svms_n80r1 telah selesai memprediksi 8000 gambar.\n"
     ]
    }
   ],
   "source": [
    "if __name__ == \"__main__\":\n",
    "    models_folder = \"Modelling Support Vector Machine/Model SVM/Num Points 80 Radius 1\"\n",
    "    test_data_folders = [\"Dataset/Test/Negative\", \"Dataset/Test/Positive\"]\n",
    "    num_points = 80\n",
    "    radius = 1\n",
    "    df_16 = main(models_folder, test_data_folders, num_points, radius)"
   ]
  },
  {
   "cell_type": "code",
   "execution_count": 36,
   "metadata": {},
   "outputs": [
    {
     "data": {
      "text/html": [
       "<div>\n",
       "<style scoped>\n",
       "    .dataframe tbody tr th:only-of-type {\n",
       "        vertical-align: middle;\n",
       "    }\n",
       "\n",
       "    .dataframe tbody tr th {\n",
       "        vertical-align: top;\n",
       "    }\n",
       "\n",
       "    .dataframe thead th {\n",
       "        text-align: right;\n",
       "    }\n",
       "</style>\n",
       "<table border=\"1\" class=\"dataframe\">\n",
       "  <thead>\n",
       "    <tr style=\"text-align: right;\">\n",
       "      <th></th>\n",
       "      <th>Model</th>\n",
       "      <th>Average Prediction Time (s)</th>\n",
       "    </tr>\n",
       "  </thead>\n",
       "  <tbody>\n",
       "    <tr>\n",
       "      <th>0</th>\n",
       "      <td>Random Forest svml_n80r1</td>\n",
       "      <td>0.074590</td>\n",
       "    </tr>\n",
       "    <tr>\n",
       "      <th>1</th>\n",
       "      <td>Random Forest svmp_n80r1</td>\n",
       "      <td>0.074032</td>\n",
       "    </tr>\n",
       "    <tr>\n",
       "      <th>2</th>\n",
       "      <td>Random Forest svmr_n80r1</td>\n",
       "      <td>0.074738</td>\n",
       "    </tr>\n",
       "    <tr>\n",
       "      <th>3</th>\n",
       "      <td>Random Forest svms_n80r1</td>\n",
       "      <td>0.074434</td>\n",
       "    </tr>\n",
       "  </tbody>\n",
       "</table>\n",
       "</div>"
      ],
      "text/plain": [
       "                      Model  Average Prediction Time (s)\n",
       "0  Random Forest svml_n80r1                     0.074590\n",
       "1  Random Forest svmp_n80r1                     0.074032\n",
       "2  Random Forest svmr_n80r1                     0.074738\n",
       "3  Random Forest svms_n80r1                     0.074434"
      ]
     },
     "execution_count": 36,
     "metadata": {},
     "output_type": "execute_result"
    }
   ],
   "source": [
    "# Call Df to see the result\n",
    "df_16"
   ]
  },
  {
   "cell_type": "markdown",
   "metadata": {},
   "source": [
    "# Num Points 80 Radius 2"
   ]
  },
  {
   "cell_type": "code",
   "execution_count": 37,
   "metadata": {},
   "outputs": [
    {
     "name": "stdout",
     "output_type": "stream",
     "text": [
      "Model Random Forest svml_n80r2 telah selesai memprediksi 8000 gambar.\n",
      "Model Random Forest svmp_n80r2 telah selesai memprediksi 8000 gambar.\n",
      "Model Random Forest svmr_n80r2 telah selesai memprediksi 8000 gambar.\n",
      "Model Random Forest svms_n80r2 telah selesai memprediksi 8000 gambar.\n"
     ]
    }
   ],
   "source": [
    "if __name__ == \"__main__\":\n",
    "    models_folder = \"Modelling Support Vector Machine/Model SVM/Num Points 80 Radius 2\"\n",
    "    test_data_folders = [\"Dataset/Test/Negative\", \"Dataset/Test/Positive\"]\n",
    "    num_points = 80\n",
    "    radius = 2\n",
    "    df_17 = main(models_folder, test_data_folders, num_points, radius)"
   ]
  },
  {
   "cell_type": "code",
   "execution_count": 38,
   "metadata": {},
   "outputs": [
    {
     "data": {
      "text/html": [
       "<div>\n",
       "<style scoped>\n",
       "    .dataframe tbody tr th:only-of-type {\n",
       "        vertical-align: middle;\n",
       "    }\n",
       "\n",
       "    .dataframe tbody tr th {\n",
       "        vertical-align: top;\n",
       "    }\n",
       "\n",
       "    .dataframe thead th {\n",
       "        text-align: right;\n",
       "    }\n",
       "</style>\n",
       "<table border=\"1\" class=\"dataframe\">\n",
       "  <thead>\n",
       "    <tr style=\"text-align: right;\">\n",
       "      <th></th>\n",
       "      <th>Model</th>\n",
       "      <th>Average Prediction Time (s)</th>\n",
       "    </tr>\n",
       "  </thead>\n",
       "  <tbody>\n",
       "    <tr>\n",
       "      <th>0</th>\n",
       "      <td>Random Forest svml_n80r2</td>\n",
       "      <td>0.074807</td>\n",
       "    </tr>\n",
       "    <tr>\n",
       "      <th>1</th>\n",
       "      <td>Random Forest svmp_n80r2</td>\n",
       "      <td>0.073541</td>\n",
       "    </tr>\n",
       "    <tr>\n",
       "      <th>2</th>\n",
       "      <td>Random Forest svmr_n80r2</td>\n",
       "      <td>0.075246</td>\n",
       "    </tr>\n",
       "    <tr>\n",
       "      <th>3</th>\n",
       "      <td>Random Forest svms_n80r2</td>\n",
       "      <td>0.074276</td>\n",
       "    </tr>\n",
       "  </tbody>\n",
       "</table>\n",
       "</div>"
      ],
      "text/plain": [
       "                      Model  Average Prediction Time (s)\n",
       "0  Random Forest svml_n80r2                     0.074807\n",
       "1  Random Forest svmp_n80r2                     0.073541\n",
       "2  Random Forest svmr_n80r2                     0.075246\n",
       "3  Random Forest svms_n80r2                     0.074276"
      ]
     },
     "execution_count": 38,
     "metadata": {},
     "output_type": "execute_result"
    }
   ],
   "source": [
    "# Call Df to see the result\n",
    "df_17"
   ]
  },
  {
   "cell_type": "markdown",
   "metadata": {},
   "source": [
    "# Num Points 80 Radius 3"
   ]
  },
  {
   "cell_type": "code",
   "execution_count": 39,
   "metadata": {},
   "outputs": [
    {
     "name": "stdout",
     "output_type": "stream",
     "text": [
      "Model Random Forest svml_n80r3 telah selesai memprediksi 8000 gambar.\n",
      "Model Random Forest svmp_n80r3 telah selesai memprediksi 8000 gambar.\n",
      "Model Random Forest svmr_n80r3 telah selesai memprediksi 8000 gambar.\n",
      "Model Random Forest svms_n80r3 telah selesai memprediksi 8000 gambar.\n"
     ]
    }
   ],
   "source": [
    "if __name__ == \"__main__\":\n",
    "    models_folder = \"Modelling Support Vector Machine/Model SVM/Num Points 80 Radius 3\"\n",
    "    test_data_folders = [\"Dataset/Test/Negative\", \"Dataset/Test/Positive\"]\n",
    "    num_points = 80\n",
    "    radius = 3\n",
    "    df_18 = main(models_folder, test_data_folders, num_points, radius)"
   ]
  },
  {
   "cell_type": "code",
   "execution_count": 40,
   "metadata": {},
   "outputs": [
    {
     "data": {
      "text/html": [
       "<div>\n",
       "<style scoped>\n",
       "    .dataframe tbody tr th:only-of-type {\n",
       "        vertical-align: middle;\n",
       "    }\n",
       "\n",
       "    .dataframe tbody tr th {\n",
       "        vertical-align: top;\n",
       "    }\n",
       "\n",
       "    .dataframe thead th {\n",
       "        text-align: right;\n",
       "    }\n",
       "</style>\n",
       "<table border=\"1\" class=\"dataframe\">\n",
       "  <thead>\n",
       "    <tr style=\"text-align: right;\">\n",
       "      <th></th>\n",
       "      <th>Model</th>\n",
       "      <th>Average Prediction Time (s)</th>\n",
       "    </tr>\n",
       "  </thead>\n",
       "  <tbody>\n",
       "    <tr>\n",
       "      <th>0</th>\n",
       "      <td>Random Forest svml_n80r3</td>\n",
       "      <td>0.074124</td>\n",
       "    </tr>\n",
       "    <tr>\n",
       "      <th>1</th>\n",
       "      <td>Random Forest svmp_n80r3</td>\n",
       "      <td>0.073411</td>\n",
       "    </tr>\n",
       "    <tr>\n",
       "      <th>2</th>\n",
       "      <td>Random Forest svmr_n80r3</td>\n",
       "      <td>0.074211</td>\n",
       "    </tr>\n",
       "    <tr>\n",
       "      <th>3</th>\n",
       "      <td>Random Forest svms_n80r3</td>\n",
       "      <td>0.073980</td>\n",
       "    </tr>\n",
       "  </tbody>\n",
       "</table>\n",
       "</div>"
      ],
      "text/plain": [
       "                      Model  Average Prediction Time (s)\n",
       "0  Random Forest svml_n80r3                     0.074124\n",
       "1  Random Forest svmp_n80r3                     0.073411\n",
       "2  Random Forest svmr_n80r3                     0.074211\n",
       "3  Random Forest svms_n80r3                     0.073980"
      ]
     },
     "execution_count": 40,
     "metadata": {},
     "output_type": "execute_result"
    }
   ],
   "source": [
    "# Call Df to see the result\n",
    "df_18"
   ]
  },
  {
   "cell_type": "markdown",
   "metadata": {},
   "source": [
    "# Num Points 80 Radius 4"
   ]
  },
  {
   "cell_type": "code",
   "execution_count": 41,
   "metadata": {},
   "outputs": [
    {
     "name": "stdout",
     "output_type": "stream",
     "text": [
      "Model Random Forest svml_n80r4 telah selesai memprediksi 8000 gambar.\n",
      "Model Random Forest svmp_n80r4 telah selesai memprediksi 8000 gambar.\n",
      "Model Random Forest svmr_n80r4 telah selesai memprediksi 8000 gambar.\n",
      "Model Random Forest svms_n80r4 telah selesai memprediksi 8000 gambar.\n"
     ]
    }
   ],
   "source": [
    "if __name__ == \"__main__\":\n",
    "    models_folder = \"Modelling Support Vector Machine/Model SVM/Num Points 80 Radius 4\"\n",
    "    test_data_folders = [\"Dataset/Test/Negative\", \"Dataset/Test/Positive\"]\n",
    "    num_points = 80\n",
    "    radius = 4\n",
    "    df_19 = main(models_folder, test_data_folders, num_points, radius)"
   ]
  },
  {
   "cell_type": "code",
   "execution_count": 42,
   "metadata": {},
   "outputs": [
    {
     "data": {
      "text/html": [
       "<div>\n",
       "<style scoped>\n",
       "    .dataframe tbody tr th:only-of-type {\n",
       "        vertical-align: middle;\n",
       "    }\n",
       "\n",
       "    .dataframe tbody tr th {\n",
       "        vertical-align: top;\n",
       "    }\n",
       "\n",
       "    .dataframe thead th {\n",
       "        text-align: right;\n",
       "    }\n",
       "</style>\n",
       "<table border=\"1\" class=\"dataframe\">\n",
       "  <thead>\n",
       "    <tr style=\"text-align: right;\">\n",
       "      <th></th>\n",
       "      <th>Model</th>\n",
       "      <th>Average Prediction Time (s)</th>\n",
       "    </tr>\n",
       "  </thead>\n",
       "  <tbody>\n",
       "    <tr>\n",
       "      <th>0</th>\n",
       "      <td>Random Forest svml_n80r4</td>\n",
       "      <td>0.073503</td>\n",
       "    </tr>\n",
       "    <tr>\n",
       "      <th>1</th>\n",
       "      <td>Random Forest svmp_n80r4</td>\n",
       "      <td>0.072936</td>\n",
       "    </tr>\n",
       "    <tr>\n",
       "      <th>2</th>\n",
       "      <td>Random Forest svmr_n80r4</td>\n",
       "      <td>0.073736</td>\n",
       "    </tr>\n",
       "    <tr>\n",
       "      <th>3</th>\n",
       "      <td>Random Forest svms_n80r4</td>\n",
       "      <td>0.073533</td>\n",
       "    </tr>\n",
       "  </tbody>\n",
       "</table>\n",
       "</div>"
      ],
      "text/plain": [
       "                      Model  Average Prediction Time (s)\n",
       "0  Random Forest svml_n80r4                     0.073503\n",
       "1  Random Forest svmp_n80r4                     0.072936\n",
       "2  Random Forest svmr_n80r4                     0.073736\n",
       "3  Random Forest svms_n80r4                     0.073533"
      ]
     },
     "execution_count": 42,
     "metadata": {},
     "output_type": "execute_result"
    }
   ],
   "source": [
    "# Call Df to see the result\n",
    "df_19"
   ]
  },
  {
   "cell_type": "markdown",
   "metadata": {},
   "source": [
    "# Num Points 80 Radius 5"
   ]
  },
  {
   "cell_type": "code",
   "execution_count": 43,
   "metadata": {},
   "outputs": [
    {
     "name": "stdout",
     "output_type": "stream",
     "text": [
      "Model Random Forest svml_n80r5 telah selesai memprediksi 8000 gambar.\n",
      "Model Random Forest svmp_n80r5 telah selesai memprediksi 8000 gambar.\n",
      "Model Random Forest svmr_n80r5 telah selesai memprediksi 8000 gambar.\n",
      "Model Random Forest svms_n80r5 telah selesai memprediksi 8000 gambar.\n"
     ]
    }
   ],
   "source": [
    "if __name__ == \"__main__\":\n",
    "    models_folder = \"Modelling Support Vector Machine/Model SVM/Num Points 80 Radius 5\"\n",
    "    test_data_folders = [\"Dataset/Test/Negative\", \"Dataset/Test/Positive\"]\n",
    "    num_points = 80\n",
    "    radius = 5\n",
    "    df_20 = main(models_folder, test_data_folders, num_points, radius)"
   ]
  },
  {
   "cell_type": "code",
   "execution_count": 44,
   "metadata": {},
   "outputs": [
    {
     "data": {
      "text/html": [
       "<div>\n",
       "<style scoped>\n",
       "    .dataframe tbody tr th:only-of-type {\n",
       "        vertical-align: middle;\n",
       "    }\n",
       "\n",
       "    .dataframe tbody tr th {\n",
       "        vertical-align: top;\n",
       "    }\n",
       "\n",
       "    .dataframe thead th {\n",
       "        text-align: right;\n",
       "    }\n",
       "</style>\n",
       "<table border=\"1\" class=\"dataframe\">\n",
       "  <thead>\n",
       "    <tr style=\"text-align: right;\">\n",
       "      <th></th>\n",
       "      <th>Model</th>\n",
       "      <th>Average Prediction Time (s)</th>\n",
       "    </tr>\n",
       "  </thead>\n",
       "  <tbody>\n",
       "    <tr>\n",
       "      <th>0</th>\n",
       "      <td>Random Forest svml_n80r5</td>\n",
       "      <td>0.073676</td>\n",
       "    </tr>\n",
       "    <tr>\n",
       "      <th>1</th>\n",
       "      <td>Random Forest svmp_n80r5</td>\n",
       "      <td>0.072896</td>\n",
       "    </tr>\n",
       "    <tr>\n",
       "      <th>2</th>\n",
       "      <td>Random Forest svmr_n80r5</td>\n",
       "      <td>0.073469</td>\n",
       "    </tr>\n",
       "    <tr>\n",
       "      <th>3</th>\n",
       "      <td>Random Forest svms_n80r5</td>\n",
       "      <td>0.073198</td>\n",
       "    </tr>\n",
       "  </tbody>\n",
       "</table>\n",
       "</div>"
      ],
      "text/plain": [
       "                      Model  Average Prediction Time (s)\n",
       "0  Random Forest svml_n80r5                     0.073676\n",
       "1  Random Forest svmp_n80r5                     0.072896\n",
       "2  Random Forest svmr_n80r5                     0.073469\n",
       "3  Random Forest svms_n80r5                     0.073198"
      ]
     },
     "execution_count": 44,
     "metadata": {},
     "output_type": "execute_result"
    }
   ],
   "source": [
    "# Call Df to see the result\n",
    "df_20"
   ]
  },
  {
   "cell_type": "markdown",
   "metadata": {},
   "source": [
    "# Num Points 120 Radius 1"
   ]
  },
  {
   "cell_type": "code",
   "execution_count": 45,
   "metadata": {},
   "outputs": [
    {
     "name": "stdout",
     "output_type": "stream",
     "text": [
      "Model Random Forest svml_n120r1 telah selesai memprediksi 8000 gambar.\n",
      "Model Random Forest svmp_n120r1 telah selesai memprediksi 8000 gambar.\n",
      "Model Random Forest svmr_n120r1 telah selesai memprediksi 8000 gambar.\n",
      "Model Random Forest svms_n120r1 telah selesai memprediksi 8000 gambar.\n"
     ]
    }
   ],
   "source": [
    "if __name__ == \"__main__\":\n",
    "    models_folder = \"Modelling Support Vector Machine/Model SVM/Num Points 120 Radius 1\"\n",
    "    test_data_folders = [\"Dataset/Test/Negative\", \"Dataset/Test/Positive\"]\n",
    "    num_points = 120\n",
    "    radius = 1\n",
    "    df_21 = main(models_folder, test_data_folders, num_points, radius)"
   ]
  },
  {
   "cell_type": "code",
   "execution_count": 46,
   "metadata": {},
   "outputs": [
    {
     "data": {
      "text/html": [
       "<div>\n",
       "<style scoped>\n",
       "    .dataframe tbody tr th:only-of-type {\n",
       "        vertical-align: middle;\n",
       "    }\n",
       "\n",
       "    .dataframe tbody tr th {\n",
       "        vertical-align: top;\n",
       "    }\n",
       "\n",
       "    .dataframe thead th {\n",
       "        text-align: right;\n",
       "    }\n",
       "</style>\n",
       "<table border=\"1\" class=\"dataframe\">\n",
       "  <thead>\n",
       "    <tr style=\"text-align: right;\">\n",
       "      <th></th>\n",
       "      <th>Model</th>\n",
       "      <th>Average Prediction Time (s)</th>\n",
       "    </tr>\n",
       "  </thead>\n",
       "  <tbody>\n",
       "    <tr>\n",
       "      <th>0</th>\n",
       "      <td>Random Forest svml_n120r1</td>\n",
       "      <td>0.109860</td>\n",
       "    </tr>\n",
       "    <tr>\n",
       "      <th>1</th>\n",
       "      <td>Random Forest svmp_n120r1</td>\n",
       "      <td>0.109200</td>\n",
       "    </tr>\n",
       "    <tr>\n",
       "      <th>2</th>\n",
       "      <td>Random Forest svmr_n120r1</td>\n",
       "      <td>0.109995</td>\n",
       "    </tr>\n",
       "    <tr>\n",
       "      <th>3</th>\n",
       "      <td>Random Forest svms_n120r1</td>\n",
       "      <td>0.109713</td>\n",
       "    </tr>\n",
       "  </tbody>\n",
       "</table>\n",
       "</div>"
      ],
      "text/plain": [
       "                       Model  Average Prediction Time (s)\n",
       "0  Random Forest svml_n120r1                     0.109860\n",
       "1  Random Forest svmp_n120r1                     0.109200\n",
       "2  Random Forest svmr_n120r1                     0.109995\n",
       "3  Random Forest svms_n120r1                     0.109713"
      ]
     },
     "execution_count": 46,
     "metadata": {},
     "output_type": "execute_result"
    }
   ],
   "source": [
    "# Call Df to see the result\n",
    "df_21"
   ]
  },
  {
   "cell_type": "markdown",
   "metadata": {},
   "source": [
    "# Num Points 120 Radius 2"
   ]
  },
  {
   "cell_type": "code",
   "execution_count": 47,
   "metadata": {},
   "outputs": [
    {
     "name": "stdout",
     "output_type": "stream",
     "text": [
      "Model Random Forest svml_n120r2 telah selesai memprediksi 8000 gambar.\n",
      "Model Random Forest svmp_n120r2 telah selesai memprediksi 8000 gambar.\n",
      "Model Random Forest svmr_n120r2 telah selesai memprediksi 8000 gambar.\n",
      "Model Random Forest svms_n120r2 telah selesai memprediksi 8000 gambar.\n"
     ]
    }
   ],
   "source": [
    "if __name__ == \"__main__\":\n",
    "    models_folder = \"Modelling Support Vector Machine/Model SVM/Num Points 120 Radius 2\"\n",
    "    test_data_folders = [\"Dataset/Test/Negative\", \"Dataset/Test/Positive\"]\n",
    "    num_points = 120\n",
    "    radius = 2\n",
    "    df_22 = main(models_folder, test_data_folders, num_points, radius)"
   ]
  },
  {
   "cell_type": "code",
   "execution_count": 48,
   "metadata": {},
   "outputs": [
    {
     "data": {
      "text/html": [
       "<div>\n",
       "<style scoped>\n",
       "    .dataframe tbody tr th:only-of-type {\n",
       "        vertical-align: middle;\n",
       "    }\n",
       "\n",
       "    .dataframe tbody tr th {\n",
       "        vertical-align: top;\n",
       "    }\n",
       "\n",
       "    .dataframe thead th {\n",
       "        text-align: right;\n",
       "    }\n",
       "</style>\n",
       "<table border=\"1\" class=\"dataframe\">\n",
       "  <thead>\n",
       "    <tr style=\"text-align: right;\">\n",
       "      <th></th>\n",
       "      <th>Model</th>\n",
       "      <th>Average Prediction Time (s)</th>\n",
       "    </tr>\n",
       "  </thead>\n",
       "  <tbody>\n",
       "    <tr>\n",
       "      <th>0</th>\n",
       "      <td>Random Forest svml_n120r2</td>\n",
       "      <td>0.114827</td>\n",
       "    </tr>\n",
       "    <tr>\n",
       "      <th>1</th>\n",
       "      <td>Random Forest svmp_n120r2</td>\n",
       "      <td>0.117336</td>\n",
       "    </tr>\n",
       "    <tr>\n",
       "      <th>2</th>\n",
       "      <td>Random Forest svmr_n120r2</td>\n",
       "      <td>0.116614</td>\n",
       "    </tr>\n",
       "    <tr>\n",
       "      <th>3</th>\n",
       "      <td>Random Forest svms_n120r2</td>\n",
       "      <td>0.118322</td>\n",
       "    </tr>\n",
       "  </tbody>\n",
       "</table>\n",
       "</div>"
      ],
      "text/plain": [
       "                       Model  Average Prediction Time (s)\n",
       "0  Random Forest svml_n120r2                     0.114827\n",
       "1  Random Forest svmp_n120r2                     0.117336\n",
       "2  Random Forest svmr_n120r2                     0.116614\n",
       "3  Random Forest svms_n120r2                     0.118322"
      ]
     },
     "execution_count": 48,
     "metadata": {},
     "output_type": "execute_result"
    }
   ],
   "source": [
    "# Call Df to see the result\n",
    "df_22"
   ]
  },
  {
   "cell_type": "markdown",
   "metadata": {},
   "source": [
    "# Num Points 120 Radius 3"
   ]
  },
  {
   "cell_type": "code",
   "execution_count": 49,
   "metadata": {},
   "outputs": [
    {
     "name": "stdout",
     "output_type": "stream",
     "text": [
      "Model Random Forest svml_n120r3 telah selesai memprediksi 8000 gambar.\n",
      "Model Random Forest svmp_n120r3 telah selesai memprediksi 8000 gambar.\n",
      "Model Random Forest svmr_n120r3 telah selesai memprediksi 8000 gambar.\n",
      "Model Random Forest svms_n120r3 telah selesai memprediksi 8000 gambar.\n"
     ]
    }
   ],
   "source": [
    "if __name__ == \"__main__\":\n",
    "    models_folder = \"Modelling Support Vector Machine/Model SVM/Num Points 120 Radius 3\"\n",
    "    test_data_folders = [\"Dataset/Test/Negative\", \"Dataset/Test/Positive\"]\n",
    "    num_points = 120\n",
    "    radius = 3\n",
    "    df_23 = main(models_folder, test_data_folders, num_points, radius)"
   ]
  },
  {
   "cell_type": "code",
   "execution_count": 50,
   "metadata": {},
   "outputs": [
    {
     "data": {
      "text/html": [
       "<div>\n",
       "<style scoped>\n",
       "    .dataframe tbody tr th:only-of-type {\n",
       "        vertical-align: middle;\n",
       "    }\n",
       "\n",
       "    .dataframe tbody tr th {\n",
       "        vertical-align: top;\n",
       "    }\n",
       "\n",
       "    .dataframe thead th {\n",
       "        text-align: right;\n",
       "    }\n",
       "</style>\n",
       "<table border=\"1\" class=\"dataframe\">\n",
       "  <thead>\n",
       "    <tr style=\"text-align: right;\">\n",
       "      <th></th>\n",
       "      <th>Model</th>\n",
       "      <th>Average Prediction Time (s)</th>\n",
       "    </tr>\n",
       "  </thead>\n",
       "  <tbody>\n",
       "    <tr>\n",
       "      <th>0</th>\n",
       "      <td>Random Forest svml_n120r3</td>\n",
       "      <td>0.110065</td>\n",
       "    </tr>\n",
       "    <tr>\n",
       "      <th>1</th>\n",
       "      <td>Random Forest svmp_n120r3</td>\n",
       "      <td>0.108837</td>\n",
       "    </tr>\n",
       "    <tr>\n",
       "      <th>2</th>\n",
       "      <td>Random Forest svmr_n120r3</td>\n",
       "      <td>0.109495</td>\n",
       "    </tr>\n",
       "    <tr>\n",
       "      <th>3</th>\n",
       "      <td>Random Forest svms_n120r3</td>\n",
       "      <td>0.110288</td>\n",
       "    </tr>\n",
       "  </tbody>\n",
       "</table>\n",
       "</div>"
      ],
      "text/plain": [
       "                       Model  Average Prediction Time (s)\n",
       "0  Random Forest svml_n120r3                     0.110065\n",
       "1  Random Forest svmp_n120r3                     0.108837\n",
       "2  Random Forest svmr_n120r3                     0.109495\n",
       "3  Random Forest svms_n120r3                     0.110288"
      ]
     },
     "execution_count": 50,
     "metadata": {},
     "output_type": "execute_result"
    }
   ],
   "source": [
    "# Call Df to see the result\n",
    "df_23"
   ]
  },
  {
   "cell_type": "markdown",
   "metadata": {},
   "source": [
    "# Num Points 120 Radius 4"
   ]
  },
  {
   "cell_type": "code",
   "execution_count": 51,
   "metadata": {},
   "outputs": [
    {
     "name": "stdout",
     "output_type": "stream",
     "text": [
      "Model Random Forest svml_n120r4 telah selesai memprediksi 8000 gambar.\n",
      "Model Random Forest svmp_n120r4 telah selesai memprediksi 8000 gambar.\n",
      "Model Random Forest svmr_n120r4 telah selesai memprediksi 8000 gambar.\n",
      "Model Random Forest svms_n120r4 telah selesai memprediksi 8000 gambar.\n"
     ]
    }
   ],
   "source": [
    "if __name__ == \"__main__\":\n",
    "    models_folder = \"Modelling Support Vector Machine/Model SVM/Num Points 120 Radius 4\"\n",
    "    test_data_folders = [\"Dataset/Test/Negative\", \"Dataset/Test/Positive\"]\n",
    "    num_points = 120\n",
    "    radius = 4\n",
    "    df_24 = main(models_folder, test_data_folders, num_points, radius)"
   ]
  },
  {
   "cell_type": "code",
   "execution_count": 52,
   "metadata": {},
   "outputs": [
    {
     "data": {
      "text/html": [
       "<div>\n",
       "<style scoped>\n",
       "    .dataframe tbody tr th:only-of-type {\n",
       "        vertical-align: middle;\n",
       "    }\n",
       "\n",
       "    .dataframe tbody tr th {\n",
       "        vertical-align: top;\n",
       "    }\n",
       "\n",
       "    .dataframe thead th {\n",
       "        text-align: right;\n",
       "    }\n",
       "</style>\n",
       "<table border=\"1\" class=\"dataframe\">\n",
       "  <thead>\n",
       "    <tr style=\"text-align: right;\">\n",
       "      <th></th>\n",
       "      <th>Model</th>\n",
       "      <th>Average Prediction Time (s)</th>\n",
       "    </tr>\n",
       "  </thead>\n",
       "  <tbody>\n",
       "    <tr>\n",
       "      <th>0</th>\n",
       "      <td>Random Forest svml_n120r4</td>\n",
       "      <td>0.114009</td>\n",
       "    </tr>\n",
       "    <tr>\n",
       "      <th>1</th>\n",
       "      <td>Random Forest svmp_n120r4</td>\n",
       "      <td>0.113836</td>\n",
       "    </tr>\n",
       "    <tr>\n",
       "      <th>2</th>\n",
       "      <td>Random Forest svmr_n120r4</td>\n",
       "      <td>0.114919</td>\n",
       "    </tr>\n",
       "    <tr>\n",
       "      <th>3</th>\n",
       "      <td>Random Forest svms_n120r4</td>\n",
       "      <td>0.114350</td>\n",
       "    </tr>\n",
       "  </tbody>\n",
       "</table>\n",
       "</div>"
      ],
      "text/plain": [
       "                       Model  Average Prediction Time (s)\n",
       "0  Random Forest svml_n120r4                     0.114009\n",
       "1  Random Forest svmp_n120r4                     0.113836\n",
       "2  Random Forest svmr_n120r4                     0.114919\n",
       "3  Random Forest svms_n120r4                     0.114350"
      ]
     },
     "execution_count": 52,
     "metadata": {},
     "output_type": "execute_result"
    }
   ],
   "source": [
    "# Call Df to see the result\n",
    "df_24"
   ]
  },
  {
   "cell_type": "markdown",
   "metadata": {},
   "source": [
    "# Num Points 120 Radius 5"
   ]
  },
  {
   "cell_type": "code",
   "execution_count": 53,
   "metadata": {},
   "outputs": [
    {
     "name": "stdout",
     "output_type": "stream",
     "text": [
      "Model Random Forest svml_n120r5 telah selesai memprediksi 8000 gambar.\n",
      "Model Random Forest svmp_n120r5 telah selesai memprediksi 8000 gambar.\n",
      "Model Random Forest svmr_n120r5 telah selesai memprediksi 8000 gambar.\n",
      "Model Random Forest svms_n120r5 telah selesai memprediksi 8000 gambar.\n"
     ]
    }
   ],
   "source": [
    "if __name__ == \"__main__\":\n",
    "    models_folder = \"Modelling Support Vector Machine/Model SVM/Num Points 120 Radius 5\"\n",
    "    test_data_folders = [\"Dataset/Test/Negative\", \"Dataset/Test/Positive\"]\n",
    "    num_points = 120\n",
    "    radius = 5\n",
    "    df_25 = main(models_folder, test_data_folders, num_points, radius)"
   ]
  },
  {
   "cell_type": "code",
   "execution_count": 54,
   "metadata": {},
   "outputs": [
    {
     "data": {
      "text/html": [
       "<div>\n",
       "<style scoped>\n",
       "    .dataframe tbody tr th:only-of-type {\n",
       "        vertical-align: middle;\n",
       "    }\n",
       "\n",
       "    .dataframe tbody tr th {\n",
       "        vertical-align: top;\n",
       "    }\n",
       "\n",
       "    .dataframe thead th {\n",
       "        text-align: right;\n",
       "    }\n",
       "</style>\n",
       "<table border=\"1\" class=\"dataframe\">\n",
       "  <thead>\n",
       "    <tr style=\"text-align: right;\">\n",
       "      <th></th>\n",
       "      <th>Model</th>\n",
       "      <th>Average Prediction Time (s)</th>\n",
       "    </tr>\n",
       "  </thead>\n",
       "  <tbody>\n",
       "    <tr>\n",
       "      <th>0</th>\n",
       "      <td>Random Forest svml_n120r5</td>\n",
       "      <td>0.108518</td>\n",
       "    </tr>\n",
       "    <tr>\n",
       "      <th>1</th>\n",
       "      <td>Random Forest svmp_n120r5</td>\n",
       "      <td>0.108092</td>\n",
       "    </tr>\n",
       "    <tr>\n",
       "      <th>2</th>\n",
       "      <td>Random Forest svmr_n120r5</td>\n",
       "      <td>0.110028</td>\n",
       "    </tr>\n",
       "    <tr>\n",
       "      <th>3</th>\n",
       "      <td>Random Forest svms_n120r5</td>\n",
       "      <td>0.112359</td>\n",
       "    </tr>\n",
       "  </tbody>\n",
       "</table>\n",
       "</div>"
      ],
      "text/plain": [
       "                       Model  Average Prediction Time (s)\n",
       "0  Random Forest svml_n120r5                     0.108518\n",
       "1  Random Forest svmp_n120r5                     0.108092\n",
       "2  Random Forest svmr_n120r5                     0.110028\n",
       "3  Random Forest svms_n120r5                     0.112359"
      ]
     },
     "execution_count": 54,
     "metadata": {},
     "output_type": "execute_result"
    }
   ],
   "source": [
    "# Call Df to see the result\n",
    "df_25"
   ]
  },
  {
   "cell_type": "markdown",
   "metadata": {},
   "source": [
    "# Wrap Up"
   ]
  },
  {
   "cell_type": "code",
   "execution_count": 55,
   "metadata": {},
   "outputs": [
    {
     "data": {
      "text/html": [
       "<div>\n",
       "<style scoped>\n",
       "    .dataframe tbody tr th:only-of-type {\n",
       "        vertical-align: middle;\n",
       "    }\n",
       "\n",
       "    .dataframe tbody tr th {\n",
       "        vertical-align: top;\n",
       "    }\n",
       "\n",
       "    .dataframe thead th {\n",
       "        text-align: right;\n",
       "    }\n",
       "</style>\n",
       "<table border=\"1\" class=\"dataframe\">\n",
       "  <thead>\n",
       "    <tr style=\"text-align: right;\">\n",
       "      <th></th>\n",
       "      <th>Model</th>\n",
       "      <th>Average Prediction Time (s)</th>\n",
       "    </tr>\n",
       "  </thead>\n",
       "  <tbody>\n",
       "    <tr>\n",
       "      <th>0</th>\n",
       "      <td>Random Forest svml_n8r1</td>\n",
       "      <td>0.009384</td>\n",
       "    </tr>\n",
       "    <tr>\n",
       "      <th>1</th>\n",
       "      <td>Random Forest svmp_n8r1</td>\n",
       "      <td>0.009004</td>\n",
       "    </tr>\n",
       "    <tr>\n",
       "      <th>2</th>\n",
       "      <td>Random Forest svmr_n8r1</td>\n",
       "      <td>0.009655</td>\n",
       "    </tr>\n",
       "    <tr>\n",
       "      <th>3</th>\n",
       "      <td>Random Forest svms_n8r1</td>\n",
       "      <td>0.009591</td>\n",
       "    </tr>\n",
       "    <tr>\n",
       "      <th>4</th>\n",
       "      <td>Random Forest svml_n8r2</td>\n",
       "      <td>0.009213</td>\n",
       "    </tr>\n",
       "    <tr>\n",
       "      <th>...</th>\n",
       "      <td>...</td>\n",
       "      <td>...</td>\n",
       "    </tr>\n",
       "    <tr>\n",
       "      <th>95</th>\n",
       "      <td>Random Forest svms_n120r4</td>\n",
       "      <td>0.114350</td>\n",
       "    </tr>\n",
       "    <tr>\n",
       "      <th>96</th>\n",
       "      <td>Random Forest svml_n120r5</td>\n",
       "      <td>0.108518</td>\n",
       "    </tr>\n",
       "    <tr>\n",
       "      <th>97</th>\n",
       "      <td>Random Forest svmp_n120r5</td>\n",
       "      <td>0.108092</td>\n",
       "    </tr>\n",
       "    <tr>\n",
       "      <th>98</th>\n",
       "      <td>Random Forest svmr_n120r5</td>\n",
       "      <td>0.110028</td>\n",
       "    </tr>\n",
       "    <tr>\n",
       "      <th>99</th>\n",
       "      <td>Random Forest svms_n120r5</td>\n",
       "      <td>0.112359</td>\n",
       "    </tr>\n",
       "  </tbody>\n",
       "</table>\n",
       "<p>100 rows × 2 columns</p>\n",
       "</div>"
      ],
      "text/plain": [
       "                        Model  Average Prediction Time (s)\n",
       "0     Random Forest svml_n8r1                     0.009384\n",
       "1     Random Forest svmp_n8r1                     0.009004\n",
       "2     Random Forest svmr_n8r1                     0.009655\n",
       "3     Random Forest svms_n8r1                     0.009591\n",
       "4     Random Forest svml_n8r2                     0.009213\n",
       "..                        ...                          ...\n",
       "95  Random Forest svms_n120r4                     0.114350\n",
       "96  Random Forest svml_n120r5                     0.108518\n",
       "97  Random Forest svmp_n120r5                     0.108092\n",
       "98  Random Forest svmr_n120r5                     0.110028\n",
       "99  Random Forest svms_n120r5                     0.112359\n",
       "\n",
       "[100 rows x 2 columns]"
      ]
     },
     "execution_count": 55,
     "metadata": {},
     "output_type": "execute_result"
    }
   ],
   "source": [
    "# Combine all dataframes\n",
    "df = pd.concat([df_1, df_2, df_3, df_4, df_5, df_6, df_7, df_8, df_9, df_10, df_11, df_12, df_13, df_14, df_15, df_16, df_17, df_18, df_19, df_20, df_21, df_22, df_23, df_24, df_25], ignore_index=True)\n",
    "df"
   ]
  },
  {
   "cell_type": "code",
   "execution_count": 56,
   "metadata": {},
   "outputs": [],
   "source": [
    "# Save the dataframe to csv\n",
    "df.to_csv('Inference Time Support Vector Machine.csv', index=False)"
   ]
  }
 ],
 "metadata": {
  "kernelspec": {
   "display_name": "TensorFlowGPU",
   "language": "python",
   "name": "python3"
  },
  "language_info": {
   "codemirror_mode": {
    "name": "ipython",
    "version": 3
   },
   "file_extension": ".py",
   "mimetype": "text/x-python",
   "name": "python",
   "nbconvert_exporter": "python",
   "pygments_lexer": "ipython3",
   "version": "3.10.13"
  }
 },
 "nbformat": 4,
 "nbformat_minor": 2
}
