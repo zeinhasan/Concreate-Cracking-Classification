{
 "cells": [
  {
   "cell_type": "markdown",
   "metadata": {},
   "source": [
    "# Library"
   ]
  },
  {
   "cell_type": "code",
   "execution_count": 7,
   "metadata": {},
   "outputs": [],
   "source": [
    "import os\n",
    "import numpy as np\n",
    "import tensorflow as tf\n",
    "from tensorflow.keras.models import load_model\n",
    "from tensorflow.keras.preprocessing.image import ImageDataGenerator\n",
    "import pandas as pd\n",
    "import time"
   ]
  },
  {
   "cell_type": "markdown",
   "metadata": {},
   "source": [
    "# Load Model"
   ]
  },
  {
   "cell_type": "code",
   "execution_count": 2,
   "metadata": {},
   "outputs": [],
   "source": [
    "# Path to the folder containing the models\n",
    "model_folder = \"Modelling MobileNet/Model MobileNet\"\n",
    "\n",
    "# List all files in the folder\n",
    "model_files = os.listdir(model_folder)\n",
    "\n",
    "# Filter only files with .h5 extension (TensorFlow model files)\n",
    "model_files = [file for file in model_files if file.endswith('.h5')]\n",
    "\n",
    "# Load all models into a list\n",
    "models = []\n",
    "for model_file in model_files:\n",
    "    model_path = os.path.join(model_folder, model_file)\n",
    "    # Remove the file extension to use as the model name\n",
    "    model_name = os.path.splitext(model_file)[0]\n",
    "    model = load_model(model_path, compile=False)\n",
    "    model.compile(optimizer='adam', loss='categorical_crossentropy', metrics=['accuracy'])\n",
    "    models.append((model_name, model))  # Store both model name and model object in the list"
   ]
  },
  {
   "cell_type": "code",
   "execution_count": 3,
   "metadata": {},
   "outputs": [
    {
     "data": {
      "text/plain": [
       "[('MobileNet_Basic', <keras.engine.functional.Functional at 0x1fac416ec50>),\n",
       " ('MobileNet_Modified075',\n",
       "  <keras.engine.functional.Functional at 0x1fad7b1c910>),\n",
       " ('MobileNet_Modified076',\n",
       "  <keras.engine.functional.Functional at 0x1faf82815a0>),\n",
       " ('MobileNet_Modified077',\n",
       "  <keras.engine.functional.Functional at 0x1fb02024970>),\n",
       " ('MobileNet_Modified078',\n",
       "  <keras.engine.functional.Functional at 0x1fb06a229e0>),\n",
       " ('MobileNet_Modified079',\n",
       "  <keras.engine.functional.Functional at 0x1fb0698c850>),\n",
       " ('MobileNet_Modified080',\n",
       "  <keras.engine.functional.Functional at 0x1fb06c43a00>),\n",
       " ('MobileNet_Modified081',\n",
       "  <keras.engine.functional.Functional at 0x1fb06cd45e0>),\n",
       " ('MobileNet_Modified082',\n",
       "  <keras.engine.functional.Functional at 0x1fb06d686a0>),\n",
       " ('MobileNet_Modified083',\n",
       "  <keras.engine.functional.Functional at 0x1fbec48e050>),\n",
       " ('MobileNet_Modified084',\n",
       "  <keras.engine.functional.Functional at 0x1fb0200a500>),\n",
       " ('MobileNet_Modified085',\n",
       "  <keras.engine.functional.Functional at 0x1fbec704760>),\n",
       " ('MobileNet_Modified086',\n",
       "  <keras.engine.functional.Functional at 0x1fbec7dba60>),\n",
       " ('MobileNet_Modified087',\n",
       "  <keras.engine.functional.Functional at 0x1fbec987c40>),\n",
       " ('MobileNet_Modified088',\n",
       "  <keras.engine.functional.Functional at 0x1fbeca27250>),\n",
       " ('MobileNet_Modified089',\n",
       "  <keras.engine.functional.Functional at 0x1fbecb2b130>),\n",
       " ('MobileNet_Modified090',\n",
       "  <keras.engine.functional.Functional at 0x1fbecba1240>),\n",
       " ('MobileNet_Modified091',\n",
       "  <keras.engine.functional.Functional at 0x1fbecd06f80>),\n",
       " ('MobileNet_Modified092',\n",
       "  <keras.engine.functional.Functional at 0x1fbede0feb0>),\n",
       " ('MobileNet_Modified093',\n",
       "  <keras.engine.functional.Functional at 0x1fac430d6f0>),\n",
       " ('MobileNet_Modified094',\n",
       "  <keras.engine.functional.Functional at 0x1fbedfdab60>),\n",
       " ('MobileNet_Modified095',\n",
       "  <keras.engine.functional.Functional at 0x1fbee09dbd0>),\n",
       " ('MobileNet_Modified096',\n",
       "  <keras.engine.functional.Functional at 0x1fbee09e740>),\n",
       " ('MobileNet_Modified097',\n",
       "  <keras.engine.functional.Functional at 0x1fbee2f79d0>),\n",
       " ('MobileNet_Modified098',\n",
       "  <keras.engine.functional.Functional at 0x1fbee467b20>),\n",
       " ('MobileNet_Modified099',\n",
       "  <keras.engine.functional.Functional at 0x1fbee506ad0>)]"
      ]
     },
     "execution_count": 3,
     "metadata": {},
     "output_type": "execute_result"
    }
   ],
   "source": [
    "# Check apakah model yang di-load sudah benar\n",
    "# Get name all models\n",
    "models"
   ]
  },
  {
   "cell_type": "markdown",
   "metadata": {},
   "source": [
    "# Load Dataset"
   ]
  },
  {
   "cell_type": "code",
   "execution_count": 4,
   "metadata": {},
   "outputs": [
    {
     "name": "stdout",
     "output_type": "stream",
     "text": [
      "Found 8000 images belonging to 2 classes.\n"
     ]
    }
   ],
   "source": [
    "val_datagen = ImageDataGenerator(rescale=1./255)\n",
    "\n",
    "val_generator = val_datagen.flow_from_directory(\n",
    "        \"Dataset/Test\",  # Path direktori dataset validasi\n",
    "        target_size=(224, 224),  # Resolusi gambar\n",
    "        classes=['Negative', 'Positive'],  # Kelas target\n",
    "        class_mode='categorical',  # Mode kelas (categorical karena ada lebih dari 2 kelas)\n",
    "        shuffle=False,\n",
    "        batch_size=1) # Tidak perlu diacak karena kita ingin mencocokkan hasil dengan label\n",
    "        "
   ]
  },
  {
   "cell_type": "markdown",
   "metadata": {},
   "source": [
    "# Count Runtime "
   ]
  },
  {
   "cell_type": "code",
   "execution_count": 5,
   "metadata": {},
   "outputs": [
    {
     "name": "stdout",
     "output_type": "stream",
     "text": [
      "Model MobileNet_Basic: Done Inference for Dataset (8000 images)\n",
      "Model MobileNet_Modified075: Done Inference for Dataset (8000 images)\n",
      "Model MobileNet_Modified076: Done Inference for Dataset (8000 images)\n",
      "Model MobileNet_Modified077: Done Inference for Dataset (8000 images)\n",
      "Model MobileNet_Modified078: Done Inference for Dataset (8000 images)\n",
      "Model MobileNet_Modified079: Done Inference for Dataset (8000 images)\n",
      "Model MobileNet_Modified080: Done Inference for Dataset (8000 images)\n",
      "Model MobileNet_Modified081: Done Inference for Dataset (8000 images)\n",
      "Model MobileNet_Modified082: Done Inference for Dataset (8000 images)\n",
      "Model MobileNet_Modified083: Done Inference for Dataset (8000 images)\n",
      "Model MobileNet_Modified084: Done Inference for Dataset (8000 images)\n",
      "Model MobileNet_Modified085: Done Inference for Dataset (8000 images)\n",
      "Model MobileNet_Modified086: Done Inference for Dataset (8000 images)\n",
      "Model MobileNet_Modified087: Done Inference for Dataset (8000 images)\n",
      "Model MobileNet_Modified088: Done Inference for Dataset (8000 images)\n",
      "Model MobileNet_Modified089: Done Inference for Dataset (8000 images)\n",
      "Model MobileNet_Modified090: Done Inference for Dataset (8000 images)\n",
      "Model MobileNet_Modified091: Done Inference for Dataset (8000 images)\n",
      "Model MobileNet_Modified092: Done Inference for Dataset (8000 images)\n",
      "Model MobileNet_Modified093: Done Inference for Dataset (8000 images)\n",
      "Model MobileNet_Modified094: Done Inference for Dataset (8000 images)\n",
      "Model MobileNet_Modified095: Done Inference for Dataset (8000 images)\n",
      "Model MobileNet_Modified096: Done Inference for Dataset (8000 images)\n",
      "Model MobileNet_Modified097: Done Inference for Dataset (8000 images)\n",
      "Model MobileNet_Modified098: Done Inference for Dataset (8000 images)\n",
      "Model MobileNet_Modified099: Done Inference for Dataset (8000 images)\n"
     ]
    }
   ],
   "source": [
    "# Ukur runtime inferensi untuk setiap model dan satu dataset keseluruhan terlebih dahulu baru ganti model\n",
    "inference_times = [[] for _ in range(len(models))]\n",
    "\n",
    "# Iterate over models\n",
    "for j, (model_name, model) in enumerate(models):\n",
    "    total_batches = len(val_generator)\n",
    "    total_images = total_batches * val_generator.batch_size\n",
    "    total_predictions = 0\n",
    "    \n",
    "    # Iterate over images in the validation dataset\n",
    "    for i, (images, _) in enumerate(val_generator):\n",
    "        # Measure inference time for the entire dataset and append to the corresponding model's list\n",
    "        start_time = time.time()\n",
    "        predictions = model.predict(images, verbose=0)\n",
    "        end_time = time.time()\n",
    "        inference_time = end_time - start_time\n",
    "        inference_times[j].append(inference_time)\n",
    "        \n",
    "        total_predictions += len(predictions)\n",
    "        \n",
    "        # Display message when done predicting entire dataset\n",
    "        if total_predictions >= total_images:\n",
    "            print(f\"Model {model_name}: Done Inference for Dataset ({total_images} images)\")\n",
    "            break"
   ]
  },
  {
   "cell_type": "code",
   "execution_count": 6,
   "metadata": {},
   "outputs": [
    {
     "name": "stdout",
     "output_type": "stream",
     "text": [
      "Model MobileNet_Basic.h5: Rata-rata runtime inferensi per gambar: 0.051348755657672884 seconds\n",
      "Model MobileNet_Modified075.h5: Rata-rata runtime inferensi per gambar: 0.046057122975587846 seconds\n",
      "Model MobileNet_Modified076.h5: Rata-rata runtime inferensi per gambar: 0.0450742963552475 seconds\n",
      "Model MobileNet_Modified077.h5: Rata-rata runtime inferensi per gambar: 0.04550249469280243 seconds\n",
      "Model MobileNet_Modified078.h5: Rata-rata runtime inferensi per gambar: 0.04579774731397629 seconds\n",
      "Model MobileNet_Modified079.h5: Rata-rata runtime inferensi per gambar: 0.04542930924892426 seconds\n",
      "Model MobileNet_Modified080.h5: Rata-rata runtime inferensi per gambar: 0.04587820717692375 seconds\n",
      "Model MobileNet_Modified081.h5: Rata-rata runtime inferensi per gambar: 0.04620877134799957 seconds\n",
      "Model MobileNet_Modified082.h5: Rata-rata runtime inferensi per gambar: 0.04564696231484413 seconds\n",
      "Model MobileNet_Modified083.h5: Rata-rata runtime inferensi per gambar: 0.04597196352481842 seconds\n",
      "Model MobileNet_Modified084.h5: Rata-rata runtime inferensi per gambar: 0.04590984016656876 seconds\n",
      "Model MobileNet_Modified085.h5: Rata-rata runtime inferensi per gambar: 0.046240966498851774 seconds\n",
      "Model MobileNet_Modified086.h5: Rata-rata runtime inferensi per gambar: 0.047194231271743776 seconds\n",
      "Model MobileNet_Modified087.h5: Rata-rata runtime inferensi per gambar: 0.04684730583429336 seconds\n",
      "Model MobileNet_Modified088.h5: Rata-rata runtime inferensi per gambar: 0.04752864819765091 seconds\n",
      "Model MobileNet_Modified089.h5: Rata-rata runtime inferensi per gambar: 0.047132631808519364 seconds\n",
      "Model MobileNet_Modified090.h5: Rata-rata runtime inferensi per gambar: 0.048256528794765476 seconds\n",
      "Model MobileNet_Modified091.h5: Rata-rata runtime inferensi per gambar: 0.04747196590900421 seconds\n",
      "Model MobileNet_Modified092.h5: Rata-rata runtime inferensi per gambar: 0.04815854376554489 seconds\n",
      "Model MobileNet_Modified093.h5: Rata-rata runtime inferensi per gambar: 0.04793117564916611 seconds\n",
      "Model MobileNet_Modified094.h5: Rata-rata runtime inferensi per gambar: 0.04894380828738212 seconds\n",
      "Model MobileNet_Modified095.h5: Rata-rata runtime inferensi per gambar: 0.05024638083577156 seconds\n",
      "Model MobileNet_Modified096.h5: Rata-rata runtime inferensi per gambar: 0.048065043210983274 seconds\n",
      "Model MobileNet_Modified097.h5: Rata-rata runtime inferensi per gambar: 0.04834442088007927 seconds\n",
      "Model MobileNet_Modified098.h5: Rata-rata runtime inferensi per gambar: 0.04932257169485092 seconds\n",
      "Model MobileNet_Modified099.h5: Rata-rata runtime inferensi per gambar: 0.0487036934196949 seconds\n"
     ]
    }
   ],
   "source": [
    "# Hitung rata-rata runtime inferensi untuk setiap model\n",
    "average_inference_times = [np.mean(times) for times in inference_times]\n",
    "\n",
    "# Print hasil\n",
    "for i, model_file in enumerate(model_files):\n",
    "    print(f\"Model {model_file}: Rata-rata runtime inferensi per gambar: {average_inference_times[i]} seconds\")"
   ]
  },
  {
   "cell_type": "markdown",
   "metadata": {},
   "source": [
    "# Wrap Up"
   ]
  },
  {
   "cell_type": "code",
   "execution_count": 8,
   "metadata": {},
   "outputs": [
    {
     "name": "stdout",
     "output_type": "stream",
     "text": [
      "               Model Name  Average Inference Time\n",
      "0         MobileNet_Basic                0.051349\n",
      "1   MobileNet_Modified075                0.046057\n",
      "2   MobileNet_Modified076                0.045074\n",
      "3   MobileNet_Modified077                0.045502\n",
      "4   MobileNet_Modified078                0.045798\n",
      "5   MobileNet_Modified079                0.045429\n",
      "6   MobileNet_Modified080                0.045878\n",
      "7   MobileNet_Modified081                0.046209\n",
      "8   MobileNet_Modified082                0.045647\n",
      "9   MobileNet_Modified083                0.045972\n",
      "10  MobileNet_Modified084                0.045910\n",
      "11  MobileNet_Modified085                0.046241\n",
      "12  MobileNet_Modified086                0.047194\n",
      "13  MobileNet_Modified087                0.046847\n",
      "14  MobileNet_Modified088                0.047529\n",
      "15  MobileNet_Modified089                0.047133\n",
      "16  MobileNet_Modified090                0.048257\n",
      "17  MobileNet_Modified091                0.047472\n",
      "18  MobileNet_Modified092                0.048159\n",
      "19  MobileNet_Modified093                0.047931\n",
      "20  MobileNet_Modified094                0.048944\n",
      "21  MobileNet_Modified095                0.050246\n",
      "22  MobileNet_Modified096                0.048065\n",
      "23  MobileNet_Modified097                0.048344\n",
      "24  MobileNet_Modified098                0.049323\n",
      "25  MobileNet_Modified099                0.048704\n"
     ]
    }
   ],
   "source": [
    "# Make dataset for model name and average inference time\n",
    "# Initialize an empty list to store the model name and average inference time tuples\n",
    "model_inference_times = []\n",
    "\n",
    "# Iterate over models and average inference times\n",
    "for (model_name, _), avg_time in zip(models, average_inference_times):\n",
    "    # Append the model name and average inference time tuple to the list\n",
    "    model_inference_times.append((model_name, avg_time))\n",
    "\n",
    "# Create a DataFrame from the list of tuples\n",
    "df = pd.DataFrame(model_inference_times, columns=['Model Name', 'Average Inference Time'])\n",
    "\n",
    "# Print the DataFrame\n",
    "print(df)"
   ]
  },
  {
   "cell_type": "code",
   "execution_count": 9,
   "metadata": {},
   "outputs": [],
   "source": [
    "# Export the DataFrame to a CSV file\n",
    "df.to_csv('inference times MobileNet.csv', index=False)"
   ]
  }
 ],
 "metadata": {
  "kernelspec": {
   "display_name": "TensorFlowGPU",
   "language": "python",
   "name": "python3"
  },
  "language_info": {
   "codemirror_mode": {
    "name": "ipython",
    "version": 3
   },
   "file_extension": ".py",
   "mimetype": "text/x-python",
   "name": "python",
   "nbconvert_exporter": "python",
   "pygments_lexer": "ipython3",
   "version": "3.10.13"
  }
 },
 "nbformat": 4,
 "nbformat_minor": 2
}
