{
 "cells": [
  {
   "cell_type": "markdown",
   "metadata": {},
   "source": [
    "# Library"
   ]
  },
  {
   "cell_type": "code",
   "execution_count": 1,
   "metadata": {},
   "outputs": [],
   "source": [
    "from skimage import feature\n",
    "import numpy as np\n",
    "import cv2"
   ]
  },
  {
   "cell_type": "markdown",
   "metadata": {},
   "source": [
    "# Fungsi Local Binnary Pattern"
   ]
  },
  {
   "cell_type": "code",
   "execution_count": 2,
   "metadata": {},
   "outputs": [],
   "source": [
    "# Local Binary Patterns (LBP) class\n",
    "class LocalBinaryPatterns:\n",
    "    def __init__(self, numPoints, radius):\n",
    "        self.numPoints = numPoints\n",
    "        self.radius = radius\n",
    "\n",
    "    def describe(self, image):\n",
    "        lbp = feature.local_binary_pattern(image, self.numPoints,\n",
    "                                           self.radius, method=\"uniform\")\n",
    "        return lbp"
   ]
  },
  {
   "cell_type": "markdown",
   "metadata": {},
   "source": [
    "# Inisiasi Local Binnary Pattern"
   ]
  },
  {
   "cell_type": "code",
   "execution_count": 3,
   "metadata": {},
   "outputs": [],
   "source": [
    "# Inisialisasi objek LBP\n",
    "lbp_descriptor = LocalBinaryPatterns(numPoints=8, radius=1)"
   ]
  },
  {
   "cell_type": "markdown",
   "metadata": {},
   "source": [
    "# Contoh Local Binnary Pattern"
   ]
  },
  {
   "cell_type": "code",
   "execution_count": 4,
   "metadata": {},
   "outputs": [],
   "source": [
    "# Baca citra\n",
    "image = cv2.imread('Studi Kasus/Preprocessing Resize/00003 - Resized Image (9).jpg', cv2.IMREAD_GRAYSCALE)"
   ]
  },
  {
   "cell_type": "code",
   "execution_count": 5,
   "metadata": {},
   "outputs": [
    {
     "name": "stdout",
     "output_type": "stream",
     "text": [
      "Citra sebelum LBP:\n",
      "[[202 222 199 242 212 212 231 213 221]\n",
      " [225 226 201  52 213 205 210 226 226]\n",
      " [206 216 218 182 213 213 239 228 232]\n",
      " [223 219 210 207 234 220 238 224 227]\n",
      " [243 224 232  69 203 233 217 218 230]\n",
      " [225 234 235   0 222 222 225 217 206]\n",
      " [231 244 203  19 218 204 219 223 231]\n",
      " [242 218 244 231  28 232 207 223 235]\n",
      " [226 227 220 222 244  61 226 222 234]]\n"
     ]
    }
   ],
   "source": [
    "# Cetak citra sebelum LBP dalam bentuk array\n",
    "print(\"Citra sebelum LBP:\")\n",
    "print(image)"
   ]
  },
  {
   "cell_type": "code",
   "execution_count": 6,
   "metadata": {},
   "outputs": [],
   "source": [
    "# Hitung LBP pada citra\n",
    "lbp_result = lbp_descriptor.describe(image)"
   ]
  },
  {
   "cell_type": "code",
   "execution_count": 7,
   "metadata": {},
   "outputs": [
    {
     "name": "stdout",
     "output_type": "stream",
     "text": [
      "Hasil Local Binary Pattern:\n",
      "[[3. 1. 9. 0. 9. 9. 0. 5. 2.]\n",
      " [1. 0. 4. 8. 1. 8. 7. 4. 3.]\n",
      " [5. 9. 1. 5. 9. 6. 0. 9. 0.]\n",
      " [2. 4. 5. 9. 0. 9. 1. 6. 9.]\n",
      " [0. 6. 1. 7. 5. 0. 8. 9. 0.]\n",
      " [5. 9. 0. 8. 2. 9. 1. 7. 5.]\n",
      " [9. 0. 5. 7. 1. 7. 9. 3. 1.]\n",
      " [0. 8. 0. 1. 8. 0. 7. 4. 0.]\n",
      " [9. 9. 5. 9. 0. 5. 0. 9. 1.]]\n"
     ]
    }
   ],
   "source": [
    "# Print hasil LBP\n",
    "print(\"Hasil Local Binary Pattern:\")\n",
    "print(lbp_result)"
   ]
  },
  {
   "cell_type": "markdown",
   "metadata": {},
   "source": [
    "# Add Histogram (Without Normalize)"
   ]
  },
  {
   "cell_type": "code",
   "execution_count": 8,
   "metadata": {},
   "outputs": [],
   "source": [
    "# Local Binnary Patterns (LBP) class\n",
    "class LocalBinaryPatternsHistogram:\n",
    "    def __init__(self, numPoints, radius):\n",
    "        self.numPoints = numPoints\n",
    "        self.radius = radius\n",
    "\n",
    "    def describe(self, image, eps=1e-7):\n",
    "        lbp = feature.local_binary_pattern(image, self.numPoints,\n",
    "                                           self.radius, method=\"uniform\")\n",
    "        (hist, _) = np.histogram(lbp.ravel(),\n",
    "                                  bins=np.arange(0, self.numPoints + 3),\n",
    "                                  range=(0, self.numPoints + 2))\n",
    "\n",
    "        # Normalize the histogram\n",
    "        #hist = hist.astype(\"float\")\n",
    "        #hist /= (hist.sum() + eps)\n",
    "\n",
    "        return hist"
   ]
  },
  {
   "cell_type": "code",
   "execution_count": 9,
   "metadata": {},
   "outputs": [],
   "source": [
    "# Inisialisasi objek LBP\n",
    "lbp_descriptorH = LocalBinaryPatternsHistogram(numPoints=8, radius=1)"
   ]
  },
  {
   "cell_type": "code",
   "execution_count": 10,
   "metadata": {},
   "outputs": [],
   "source": [
    "# Hitung LBP pada citra\n",
    "lbp_resultH = lbp_descriptorH.describe(image)"
   ]
  },
  {
   "cell_type": "code",
   "execution_count": 11,
   "metadata": {},
   "outputs": [
    {
     "name": "stdout",
     "output_type": "stream",
     "text": [
      "Hasil Local Binary Pattern Histogram:\n",
      "[17 11  3  3  4 10  3  6  6 18]\n"
     ]
    }
   ],
   "source": [
    "# Print hasil LBP\n",
    "print(\"Hasil Local Binary Pattern Histogram:\")\n",
    "print(lbp_resultH)"
   ]
  },
  {
   "cell_type": "markdown",
   "metadata": {},
   "source": [
    "# Local Binary Pattern Histogram With Normalize"
   ]
  },
  {
   "cell_type": "code",
   "execution_count": 12,
   "metadata": {},
   "outputs": [],
   "source": [
    "# Local Binnary Patterns (LBP) class\n",
    "class LocalBinaryPatternsHistogramFull:\n",
    "    def __init__(self, numPoints, radius):\n",
    "        self.numPoints = numPoints\n",
    "        self.radius = radius\n",
    "\n",
    "    def describe(self, image, eps=1e-7):\n",
    "        lbp = feature.local_binary_pattern(image, self.numPoints,\n",
    "                                           self.radius, method=\"uniform\")\n",
    "        (hist, _) = np.histogram(lbp.ravel(),\n",
    "                                  bins=np.arange(0, self.numPoints + 3),\n",
    "                                  range=(0, self.numPoints + 2))\n",
    "\n",
    "        # Normalize the histogram\n",
    "        hist = hist.astype(\"float\")\n",
    "        hist /= (hist.sum() + eps)\n",
    "\n",
    "        return hist"
   ]
  },
  {
   "cell_type": "code",
   "execution_count": 13,
   "metadata": {},
   "outputs": [],
   "source": [
    "# Inisialisasi objek LBP\n",
    "lbp_descriptorF = LocalBinaryPatternsHistogramFull(numPoints=8, radius=1)"
   ]
  },
  {
   "cell_type": "code",
   "execution_count": 14,
   "metadata": {},
   "outputs": [],
   "source": [
    "# Hitung LBP pada citra\n",
    "lbp_resultF = lbp_descriptorF.describe(image)"
   ]
  },
  {
   "cell_type": "code",
   "execution_count": 15,
   "metadata": {},
   "outputs": [
    {
     "name": "stdout",
     "output_type": "stream",
     "text": [
      "Hasil Local Binary Pattern Histogram:\n",
      "[0.20987654 0.13580247 0.03703704 0.03703704 0.04938272 0.12345679\n",
      " 0.03703704 0.07407407 0.07407407 0.22222222]\n"
     ]
    }
   ],
   "source": [
    "# Print hasil LBP\n",
    "print(\"Hasil Local Binary Pattern Histogram:\")\n",
    "print(lbp_resultF)"
   ]
  }
 ],
 "metadata": {
  "kernelspec": {
   "display_name": "TensorFlowGPU",
   "language": "python",
   "name": "python3"
  },
  "language_info": {
   "codemirror_mode": {
    "name": "ipython",
    "version": 3
   },
   "file_extension": ".py",
   "mimetype": "text/x-python",
   "name": "python",
   "nbconvert_exporter": "python",
   "pygments_lexer": "ipython3",
   "version": "3.10.13"
  }
 },
 "nbformat": 4,
 "nbformat_minor": 2
}
