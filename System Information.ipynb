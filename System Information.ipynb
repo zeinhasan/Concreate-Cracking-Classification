{
 "cells": [
  {
   "cell_type": "markdown",
   "id": "cefb2af6-0dc0-4443-bd0c-2f75a0c629ac",
   "metadata": {},
   "source": [
    "# Library"
   ]
  },
  {
   "cell_type": "code",
   "execution_count": 1,
   "id": "cdc67ee5-4cdd-41a5-9801-8506ebb234a0",
   "metadata": {},
   "outputs": [],
   "source": [
    "import platform\n",
    "import psutil\n",
    "import platform\n",
    "import re\n",
    "import subprocess"
   ]
  },
  {
   "cell_type": "markdown",
   "id": "a6309137-f343-4740-9e1b-0193cd66131a",
   "metadata": {},
   "source": [
    "# Get System Information"
   ]
  },
  {
   "cell_type": "code",
   "execution_count": 2,
   "id": "75b447cc-5734-41ca-90e6-bfa8b5a0b54e",
   "metadata": {},
   "outputs": [],
   "source": [
    "def get_linux_distribution():\n",
    "    try:\n",
    "        with open(\"/etc/os-release\", \"r\") as f:\n",
    "            for line in f:\n",
    "                if line.startswith(\"PRETTY_NAME=\"):\n",
    "                    return line.split(\"=\")[1].strip().strip('\"')\n",
    "    except FileNotFoundError:\n",
    "        return \"Distribution information not available\"\n",
    "\n",
    "def get_system_info():\n",
    "    system_info = {}\n",
    "\n",
    "    # Operating System\n",
    "    os_name = platform.system()\n",
    "    system_info[\"Operating System\"] = os_name\n",
    "\n",
    "    if os_name == \"Linux\":\n",
    "        distribution_name = get_linux_distribution()\n",
    "        system_info[\"Linux Distribution\"] = distribution_name\n",
    "    else:\n",
    "        system_info[\"Linux Distribution\"] = \"N/A\"\n",
    "\n",
    "    # Processor Name\n",
    "    system_info[\"Processor Name\"] = get_processor_name()\n",
    "\n",
    "    # RAM\n",
    "    system_info[\"RAM (GB)\"] = psutil.virtual_memory().total // (1024**3)  # in GB\n",
    "\n",
    "    # GPU\n",
    "    try:\n",
    "        import GPUtil\n",
    "        gpus = GPUtil.getGPUs()\n",
    "        system_info[\"GPU\"] = f\"{gpus[0].name} ({gpus[0].memoryTotal} MB)\"\n",
    "    except ImportError:\n",
    "        system_info[\"GPU\"] = \"GPU information not available (GPUtil module not installed)\"\n",
    "\n",
    "    # Processor Cores\n",
    "    system_info[\"Processor Cores\"] = psutil.cpu_count(logical=False)\n",
    "\n",
    "    # Python Version\n",
    "    system_info[\"Python Version\"] = platform.python_version()\n",
    "\n",
    "    return system_info\n",
    "\n",
    "def get_processor_name():\n",
    "    if platform.system() == \"Linux\":\n",
    "        with open(\"/proc/cpuinfo\", \"r\") as f:\n",
    "            for line in f:\n",
    "                if \"model name\" in line:\n",
    "                    return line.split(\":\")[1].strip()\n",
    "        return \"Processor information not available\"\n",
    "    elif platform.system() == \"Windows\":\n",
    "        command = \"wmic cpu get name\"\n",
    "        process = subprocess.Popen(command, stdout=subprocess.PIPE, stderr=subprocess.PIPE, shell=True)\n",
    "        output, error = process.communicate()\n",
    "        if output:\n",
    "            return output.decode().strip().split(\"\\n\")[1]  # Extract processor name from output\n",
    "        else:\n",
    "            return \"Processor information not available\"\n",
    "    else:\n",
    "        return \"Processor information retrieval not supported on this platform\""
   ]
  },
  {
   "cell_type": "code",
   "execution_count": 3,
   "id": "d800ffd5-8234-4673-86a5-dd9f98d54cc8",
   "metadata": {},
   "outputs": [
    {
     "name": "stdout",
     "output_type": "stream",
     "text": [
      "Operating System: Linux\n",
      "Linux Distribution: Ubuntu 22.04.3 LTS\n",
      "Processor Name: AMD Ryzen 9 5900X 12-Core Processor\n",
      "RAM (GB): 125\n",
      "GPU: NVIDIA GeForce RTX 4090 (24564.0 MB)\n",
      "Processor Cores: 12\n",
      "Python Version: 3.11.0rc1\n"
     ]
    }
   ],
   "source": [
    "if __name__ == \"__main__\":\n",
    "    system_info = get_system_info()\n",
    "    for key, value in system_info.items():\n",
    "        print(f\"{key}: {value}\")"
   ]
  },
  {
   "cell_type": "code",
   "execution_count": 4,
   "id": "1ced5060-0ef7-4a30-bfdc-0d9bec4225bf",
   "metadata": {},
   "outputs": [
    {
     "name": "stdout",
     "output_type": "stream",
     "text": [
      "Wed Feb 28 07:03:19 2024       \n",
      "+---------------------------------------------------------------------------------------+\n",
      "| NVIDIA-SMI 545.29.02              Driver Version: 545.29.02    CUDA Version: 12.3     |\n",
      "|-----------------------------------------+----------------------+----------------------+\n",
      "| GPU  Name                 Persistence-M | Bus-Id        Disp.A | Volatile Uncorr. ECC |\n",
      "| Fan  Temp   Perf          Pwr:Usage/Cap |         Memory-Usage | GPU-Util  Compute M. |\n",
      "|                                         |                      |               MIG M. |\n",
      "|=========================================+======================+======================|\n",
      "|   0  NVIDIA GeForce RTX 4090        On  | 00000000:07:00.0  On |                  Off |\n",
      "|  0%   54C    P8              21W / 490W |      3MiB / 24564MiB |      0%      Default |\n",
      "|                                         |                      |                  N/A |\n",
      "+-----------------------------------------+----------------------+----------------------+\n",
      "                                                                                         \n",
      "+---------------------------------------------------------------------------------------+\n",
      "| Processes:                                                                            |\n",
      "|  GPU   GI   CI        PID   Type   Process name                            GPU Memory |\n",
      "|        ID   ID                                                             Usage      |\n",
      "|=======================================================================================|\n",
      "|  No running processes found                                                           |\n",
      "+---------------------------------------------------------------------------------------+\n"
     ]
    }
   ],
   "source": [
    "!nvidia-smi"
   ]
  }
 ],
 "metadata": {
  "kernelspec": {
   "display_name": "Python 3 (ipykernel)",
   "language": "python",
   "name": "python3"
  },
  "language_info": {
   "codemirror_mode": {
    "name": "ipython",
    "version": 3
   },
   "file_extension": ".py",
   "mimetype": "text/x-python",
   "name": "python",
   "nbconvert_exporter": "python",
   "pygments_lexer": "ipython3",
   "version": "3.11.0rc1"
  }
 },
 "nbformat": 4,
 "nbformat_minor": 5
}
