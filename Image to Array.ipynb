{
 "cells": [
  {
   "cell_type": "markdown",
   "metadata": {},
   "source": [
    "# Library"
   ]
  },
  {
   "cell_type": "code",
   "execution_count": 1,
   "metadata": {},
   "outputs": [],
   "source": [
    "# Import Library\n",
    "import cv2\n",
    "import numpy as np\n",
    "import matplotlib.pyplot as plt"
   ]
  },
  {
   "cell_type": "markdown",
   "metadata": {},
   "source": [
    "# Read Image"
   ]
  },
  {
   "cell_type": "code",
   "execution_count": 2,
   "metadata": {},
   "outputs": [],
   "source": [
    "# Read the image\n",
    "image = cv2.imread('Studi Kasus/Preprocessing Resize/00003 - Resized Image (4).jpg')"
   ]
  },
  {
   "cell_type": "markdown",
   "metadata": {},
   "source": [
    "# Convert Image to Numerical Array"
   ]
  },
  {
   "cell_type": "code",
   "execution_count": 3,
   "metadata": {},
   "outputs": [],
   "source": [
    "# Convert the image to a numerical array\n",
    "image_array = np.array(image)"
   ]
  },
  {
   "cell_type": "markdown",
   "metadata": {},
   "source": [
    "# Display Array"
   ]
  },
  {
   "cell_type": "code",
   "execution_count": 4,
   "metadata": {},
   "outputs": [
    {
     "name": "stdout",
     "output_type": "stream",
     "text": [
      "[[[249 249 235]\n",
      "  [151 151 137]\n",
      "  [235 235 221]\n",
      "  [232 232 218]]\n",
      "\n",
      " [[229 229 215]\n",
      "  [233 233 219]\n",
      "  [230 230 216]\n",
      "  [243 243 229]]\n",
      "\n",
      " [[249 249 237]\n",
      "  [ 14  14   2]\n",
      "  [244 244 232]\n",
      "  [224 224 212]]\n",
      "\n",
      " [[237 237 225]\n",
      "  [239 239 227]\n",
      "  [245 245 233]\n",
      "  [255 255 246]]]\n"
     ]
    }
   ],
   "source": [
    "# Adjust NumPy printing options to display the full array\n",
    "np.set_printoptions(threshold=np.inf)\n",
    "\n",
    "# Display the array\n",
    "print(image_array)"
   ]
  },
  {
   "cell_type": "code",
   "execution_count": 5,
   "metadata": {},
   "outputs": [
    {
     "name": "stdout",
     "output_type": "stream",
     "text": [
      "\n",
      "Shape: (4, 4, 3)\n"
     ]
    }
   ],
   "source": [
    "# Print the shape of the array\n",
    "print(\"\\nShape:\", image_array.shape)"
   ]
  }
 ],
 "metadata": {
  "kernelspec": {
   "display_name": "TensorFlowGPU",
   "language": "python",
   "name": "python3"
  },
  "language_info": {
   "codemirror_mode": {
    "name": "ipython",
    "version": 3
   },
   "file_extension": ".py",
   "mimetype": "text/x-python",
   "name": "python",
   "nbconvert_exporter": "python",
   "pygments_lexer": "ipython3",
   "version": "3.10.13"
  }
 },
 "nbformat": 4,
 "nbformat_minor": 2
}
