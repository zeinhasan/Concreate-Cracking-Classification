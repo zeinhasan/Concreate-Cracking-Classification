{
 "cells": [
  {
   "cell_type": "markdown",
   "metadata": {},
   "source": [
    "# Library"
   ]
  },
  {
   "cell_type": "code",
   "execution_count": 1,
   "metadata": {},
   "outputs": [],
   "source": [
    "import os\n",
    "import random\n",
    "import shutil\n",
    "import opendatasets as od"
   ]
  },
  {
   "cell_type": "markdown",
   "metadata": {},
   "source": [
    "# Download File"
   ]
  },
  {
   "cell_type": "code",
   "execution_count": 2,
   "metadata": {},
   "outputs": [
    {
     "name": "stdout",
     "output_type": "stream",
     "text": [
      "Downloading concrete-crack-images-for-classification.zip to ./concrete-crack-images-for-classification\n"
     ]
    },
    {
     "name": "stderr",
     "output_type": "stream",
     "text": [
      "100%|██████████| 234M/234M [00:07<00:00, 32.7MB/s] \n"
     ]
    },
    {
     "name": "stdout",
     "output_type": "stream",
     "text": [
      "\n"
     ]
    }
   ],
   "source": [
    "od.download(\"https://www.kaggle.com/datasets/ahmadhabibhasanzein/concrete-crack-images-for-classification\")"
   ]
  },
  {
   "cell_type": "markdown",
   "metadata": {},
   "source": [
    "# Folder Path"
   ]
  },
  {
   "cell_type": "code",
   "execution_count": 3,
   "metadata": {},
   "outputs": [],
   "source": [
    "# Define the source folder for the positive and negative images\n",
    "positive_source_folder = 'concrete-crack-images-for-classification/Populasi/Negative'\n",
    "negative_source_folder = 'concrete-crack-images-for-classification/Populasi/Positive'\n",
    "positive_train_folder = 'Dataset/Train/Positive'\n",
    "negative_train_folder = 'Dataset/Train/Negative'\n",
    "positive_test_folder = 'Dataset/Test/Positive'\n",
    "negative_test_folder = 'Dataset/Test/Negative'"
   ]
  },
  {
   "cell_type": "code",
   "execution_count": 4,
   "metadata": {},
   "outputs": [],
   "source": [
    "# Make directories for the training and testing images\n",
    "os.makedirs(positive_train_folder, exist_ok=True)\n",
    "os.makedirs(negative_train_folder, exist_ok=True)\n",
    "os.makedirs(positive_test_folder, exist_ok=True)\n",
    "os.makedirs(negative_test_folder, exist_ok=True)"
   ]
  },
  {
   "cell_type": "markdown",
   "metadata": {},
   "source": [
    "# Splitting"
   ]
  },
  {
   "cell_type": "code",
   "execution_count": 5,
   "metadata": {},
   "outputs": [],
   "source": [
    "# Define the percentage of images to be used for training\n",
    "train_positive_percentage = 0.8\n",
    "train_negative_percentage = 0.8"
   ]
  },
  {
   "cell_type": "code",
   "execution_count": 6,
   "metadata": {},
   "outputs": [],
   "source": [
    "# Get the list of all the positive and negative images\n",
    "image_positive_files = [f for f in os.listdir(positive_source_folder) if f.endswith(('.jpg', '.png', '.jpeg', '.gif'))]\n",
    "image_negative_files = [f for f in os.listdir(negative_source_folder) if f.endswith(('.jpg', '.png', '.jpeg', '.gif'))]"
   ]
  },
  {
   "cell_type": "code",
   "execution_count": 7,
   "metadata": {},
   "outputs": [],
   "source": [
    "# Calculate the number of images to be used for training\n",
    "num_positive_train_images = int(len(image_positive_files) * train_positive_percentage)\n",
    "num_negative_train_images = int(len(image_negative_files) * train_negative_percentage)"
   ]
  },
  {
   "cell_type": "code",
   "execution_count": 8,
   "metadata": {},
   "outputs": [
    {
     "name": "stdout",
     "output_type": "stream",
     "text": [
      "Number of positive images: 20000\n",
      "Number of negative images: 20000\n",
      "Number of positive training images: 16000\n",
      "Number of negative training images: 16000\n"
     ]
    }
   ],
   "source": [
    "# Check the number of images in each category\n",
    "print('Number of positive images:', len(image_positive_files))\n",
    "print('Number of negative images:', len(image_negative_files))\n",
    "print('Number of positive training images:', num_positive_train_images)\n",
    "print('Number of negative training images:', num_negative_train_images)"
   ]
  },
  {
   "cell_type": "code",
   "execution_count": 9,
   "metadata": {},
   "outputs": [],
   "source": [
    "# Copy the positive images to the training folder\n",
    "for i in range(num_positive_train_images):\n",
    "    # Get the name of the image file\n",
    "    image_file = image_positive_files[i]\n",
    "\n",
    "    # Create the source path\n",
    "    source_path = os.path.join(positive_source_folder, image_file)\n",
    "\n",
    "    # Create the destination path\n",
    "    destination_path = os.path.join(positive_train_folder, image_file)\n",
    "\n",
    "    # Copy the image from the source to the destination folder\n",
    "    shutil.copyfile(source_path, destination_path)\n",
    "\n",
    "# Copy the negative images to the training folder\n",
    "for i in range(num_negative_train_images):\n",
    "    # Get the name of the image file\n",
    "    image_file = image_negative_files[i]\n",
    "\n",
    "    # Create the source path\n",
    "    source_path = os.path.join(negative_source_folder, image_file)\n",
    "\n",
    "    # Create the destination path\n",
    "    destination_path = os.path.join(negative_train_folder, image_file)\n",
    "\n",
    "    # Copy the image from the source to the destination folder\n",
    "    shutil.copyfile(source_path, destination_path)\n",
    "\n",
    "# Copy the positive images to the testing folder\n",
    "for i in range(num_positive_train_images, len(image_positive_files)):\n",
    "    # Get the name of the image file\n",
    "    image_file = image_positive_files[i]\n",
    "\n",
    "    # Create the source path\n",
    "    source_path = os.path.join(positive_source_folder, image_file)\n",
    "\n",
    "    # Create the destination path\n",
    "    destination_path = os.path.join(positive_test_folder, image_file)\n",
    "\n",
    "    # Copy the image from the source to the destination folder\n",
    "    shutil.copyfile(source_path, destination_path)\n",
    "\n",
    "# Copy the negative images to the testing folder\n",
    "for i in range(num_negative_train_images, len(image_negative_files)):\n",
    "    # Get the name of the image file\n",
    "    image_file = image_negative_files[i]\n",
    "\n",
    "    # Create the source path\n",
    "    source_path = os.path.join(negative_source_folder, image_file)\n",
    "\n",
    "    # Create the destination path\n",
    "    destination_path = os.path.join(negative_test_folder, image_file)\n",
    "\n",
    "    # Copy the image from the source to the destination folder\n",
    "    shutil.copyfile(source_path, destination_path)"
   ]
  },
  {
   "cell_type": "code",
   "execution_count": 10,
   "metadata": {},
   "outputs": [
    {
     "name": "stdout",
     "output_type": "stream",
     "text": [
      "Number of positive training images: 16000\n",
      "Number of negative training images: 16000\n",
      "Number of positive testing images: 4000\n",
      "Number of negative testing images: 4000\n"
     ]
    }
   ],
   "source": [
    "# Check the number of images in each category\n",
    "print('Number of positive training images:', len(os.listdir(positive_train_folder)))\n",
    "print('Number of negative training images:', len(os.listdir(negative_train_folder)))\n",
    "print('Number of positive testing images:', len(os.listdir(positive_test_folder)))\n",
    "print('Number of negative testing images:', len(os.listdir(negative_test_folder)))"
   ]
  }
 ],
 "metadata": {
  "kernelspec": {
   "display_name": "Python 3 (ipykernel)",
   "language": "python",
   "name": "python3"
  },
  "language_info": {
   "codemirror_mode": {
    "name": "ipython",
    "version": 3
   },
   "file_extension": ".py",
   "mimetype": "text/x-python",
   "name": "python",
   "nbconvert_exporter": "python",
   "pygments_lexer": "ipython3",
   "version": "3.11.0rc1"
  }
 },
 "nbformat": 4,
 "nbformat_minor": 4
}
